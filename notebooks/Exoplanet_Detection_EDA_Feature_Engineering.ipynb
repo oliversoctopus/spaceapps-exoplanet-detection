{
  "nbformat": 4,
  "nbformat_minor": 0,
  "metadata": {
    "colab": {
      "provenance": []
    },
    "kernelspec": {
      "name": "python3",
      "display_name": "Python 3"
    },
    "language_info": {
      "name": "python"
    }
  },
  "cells": [
    {
      "cell_type": "code",
      "source": [
        "!pip install -U ydata-profiling"
      ],
      "metadata": {
        "id": "Sp5qiI8kxzJM",
        "colab": {
          "base_uri": "https://localhost:8080/"
        },
        "outputId": "94dd04fa-49ed-4677-8798-c1413e1ca797"
      },
      "execution_count": 42,
      "outputs": [
        {
          "output_type": "stream",
          "name": "stdout",
          "text": [
            "Requirement already satisfied: ydata-profiling in /usr/local/lib/python3.12/dist-packages (4.17.0)\n",
            "Requirement already satisfied: scipy<1.16,>=1.4.1 in /usr/local/lib/python3.12/dist-packages (from ydata-profiling) (1.15.3)\n",
            "Requirement already satisfied: pandas!=1.4.0,<3.0,>1.1 in /usr/local/lib/python3.12/dist-packages (from ydata-profiling) (2.2.2)\n",
            "Requirement already satisfied: matplotlib<=3.10,>=3.5 in /usr/local/lib/python3.12/dist-packages (from ydata-profiling) (3.10.0)\n",
            "Requirement already satisfied: pydantic>=2 in /usr/local/lib/python3.12/dist-packages (from ydata-profiling) (2.11.9)\n",
            "Requirement already satisfied: PyYAML<6.1,>=5.0.0 in /usr/local/lib/python3.12/dist-packages (from ydata-profiling) (6.0.3)\n",
            "Requirement already satisfied: jinja2<3.2,>=2.11.1 in /usr/local/lib/python3.12/dist-packages (from ydata-profiling) (3.1.6)\n",
            "Requirement already satisfied: visions<0.8.2,>=0.7.5 in /usr/local/lib/python3.12/dist-packages (from visions[type_image_path]<0.8.2,>=0.7.5->ydata-profiling) (0.8.1)\n",
            "Requirement already satisfied: numpy<2.2,>=1.16.0 in /usr/local/lib/python3.12/dist-packages (from ydata-profiling) (2.0.2)\n",
            "Requirement already satisfied: minify-html>=0.15.0 in /usr/local/lib/python3.12/dist-packages (from ydata-profiling) (0.16.4)\n",
            "Requirement already satisfied: filetype>=1.0.0 in /usr/local/lib/python3.12/dist-packages (from ydata-profiling) (1.2.0)\n",
            "Requirement already satisfied: phik<0.13,>=0.11.1 in /usr/local/lib/python3.12/dist-packages (from ydata-profiling) (0.12.5)\n",
            "Requirement already satisfied: requests<3,>=2.24.0 in /usr/local/lib/python3.12/dist-packages (from ydata-profiling) (2.32.4)\n",
            "Requirement already satisfied: tqdm<5,>=4.48.2 in /usr/local/lib/python3.12/dist-packages (from ydata-profiling) (4.67.1)\n",
            "Requirement already satisfied: seaborn<0.14,>=0.10.1 in /usr/local/lib/python3.12/dist-packages (from ydata-profiling) (0.13.2)\n",
            "Requirement already satisfied: multimethod<2,>=1.4 in /usr/local/lib/python3.12/dist-packages (from ydata-profiling) (1.12)\n",
            "Requirement already satisfied: statsmodels<1,>=0.13.2 in /usr/local/lib/python3.12/dist-packages (from ydata-profiling) (0.14.5)\n",
            "Requirement already satisfied: typeguard<5,>=3 in /usr/local/lib/python3.12/dist-packages (from ydata-profiling) (4.4.4)\n",
            "Requirement already satisfied: imagehash==4.3.1 in /usr/local/lib/python3.12/dist-packages (from ydata-profiling) (4.3.1)\n",
            "Requirement already satisfied: wordcloud>=1.9.3 in /usr/local/lib/python3.12/dist-packages (from ydata-profiling) (1.9.4)\n",
            "Requirement already satisfied: dacite>=1.8 in /usr/local/lib/python3.12/dist-packages (from ydata-profiling) (1.9.2)\n",
            "Requirement already satisfied: numba<=0.61,>=0.56.0 in /usr/local/lib/python3.12/dist-packages (from ydata-profiling) (0.60.0)\n",
            "Requirement already satisfied: PyWavelets in /usr/local/lib/python3.12/dist-packages (from imagehash==4.3.1->ydata-profiling) (1.9.0)\n",
            "Requirement already satisfied: pillow in /usr/local/lib/python3.12/dist-packages (from imagehash==4.3.1->ydata-profiling) (11.3.0)\n",
            "Requirement already satisfied: MarkupSafe>=2.0 in /usr/local/lib/python3.12/dist-packages (from jinja2<3.2,>=2.11.1->ydata-profiling) (3.0.3)\n",
            "Requirement already satisfied: contourpy>=1.0.1 in /usr/local/lib/python3.12/dist-packages (from matplotlib<=3.10,>=3.5->ydata-profiling) (1.3.3)\n",
            "Requirement already satisfied: cycler>=0.10 in /usr/local/lib/python3.12/dist-packages (from matplotlib<=3.10,>=3.5->ydata-profiling) (0.12.1)\n",
            "Requirement already satisfied: fonttools>=4.22.0 in /usr/local/lib/python3.12/dist-packages (from matplotlib<=3.10,>=3.5->ydata-profiling) (4.60.1)\n",
            "Requirement already satisfied: kiwisolver>=1.3.1 in /usr/local/lib/python3.12/dist-packages (from matplotlib<=3.10,>=3.5->ydata-profiling) (1.4.9)\n",
            "Requirement already satisfied: packaging>=20.0 in /usr/local/lib/python3.12/dist-packages (from matplotlib<=3.10,>=3.5->ydata-profiling) (25.0)\n",
            "Requirement already satisfied: pyparsing>=2.3.1 in /usr/local/lib/python3.12/dist-packages (from matplotlib<=3.10,>=3.5->ydata-profiling) (3.2.5)\n",
            "Requirement already satisfied: python-dateutil>=2.7 in /usr/local/lib/python3.12/dist-packages (from matplotlib<=3.10,>=3.5->ydata-profiling) (2.9.0.post0)\n",
            "Requirement already satisfied: llvmlite<0.44,>=0.43.0dev0 in /usr/local/lib/python3.12/dist-packages (from numba<=0.61,>=0.56.0->ydata-profiling) (0.43.0)\n",
            "Requirement already satisfied: pytz>=2020.1 in /usr/local/lib/python3.12/dist-packages (from pandas!=1.4.0,<3.0,>1.1->ydata-profiling) (2025.2)\n",
            "Requirement already satisfied: tzdata>=2022.7 in /usr/local/lib/python3.12/dist-packages (from pandas!=1.4.0,<3.0,>1.1->ydata-profiling) (2025.2)\n",
            "Requirement already satisfied: joblib>=0.14.1 in /usr/local/lib/python3.12/dist-packages (from phik<0.13,>=0.11.1->ydata-profiling) (1.5.2)\n",
            "Requirement already satisfied: annotated-types>=0.6.0 in /usr/local/lib/python3.12/dist-packages (from pydantic>=2->ydata-profiling) (0.7.0)\n",
            "Requirement already satisfied: pydantic-core==2.33.2 in /usr/local/lib/python3.12/dist-packages (from pydantic>=2->ydata-profiling) (2.33.2)\n",
            "Requirement already satisfied: typing-extensions>=4.12.2 in /usr/local/lib/python3.12/dist-packages (from pydantic>=2->ydata-profiling) (4.15.0)\n",
            "Requirement already satisfied: typing-inspection>=0.4.0 in /usr/local/lib/python3.12/dist-packages (from pydantic>=2->ydata-profiling) (0.4.2)\n",
            "Requirement already satisfied: charset_normalizer<4,>=2 in /usr/local/lib/python3.12/dist-packages (from requests<3,>=2.24.0->ydata-profiling) (3.4.3)\n",
            "Requirement already satisfied: idna<4,>=2.5 in /usr/local/lib/python3.12/dist-packages (from requests<3,>=2.24.0->ydata-profiling) (3.10)\n",
            "Requirement already satisfied: urllib3<3,>=1.21.1 in /usr/local/lib/python3.12/dist-packages (from requests<3,>=2.24.0->ydata-profiling) (2.5.0)\n",
            "Requirement already satisfied: certifi>=2017.4.17 in /usr/local/lib/python3.12/dist-packages (from requests<3,>=2.24.0->ydata-profiling) (2025.8.3)\n",
            "Requirement already satisfied: patsy>=0.5.6 in /usr/local/lib/python3.12/dist-packages (from statsmodels<1,>=0.13.2->ydata-profiling) (1.0.1)\n",
            "Requirement already satisfied: attrs>=19.3.0 in /usr/local/lib/python3.12/dist-packages (from visions<0.8.2,>=0.7.5->visions[type_image_path]<0.8.2,>=0.7.5->ydata-profiling) (25.3.0)\n",
            "Requirement already satisfied: networkx>=2.4 in /usr/local/lib/python3.12/dist-packages (from visions<0.8.2,>=0.7.5->visions[type_image_path]<0.8.2,>=0.7.5->ydata-profiling) (3.5)\n",
            "Requirement already satisfied: puremagic in /usr/local/lib/python3.12/dist-packages (from visions<0.8.2,>=0.7.5->visions[type_image_path]<0.8.2,>=0.7.5->ydata-profiling) (1.30)\n",
            "Requirement already satisfied: six>=1.5 in /usr/local/lib/python3.12/dist-packages (from python-dateutil>=2.7->matplotlib<=3.10,>=3.5->ydata-profiling) (1.17.0)\n"
          ]
        }
      ]
    },
    {
      "cell_type": "markdown",
      "source": [
        "# Kepler Objects Of Interest Analysis"
      ],
      "metadata": {
        "id": "Kz5T7s2ovumq"
      }
    },
    {
      "cell_type": "markdown",
      "source": [
        "### Basic Info"
      ],
      "metadata": {
        "id": "LP47BunPs-Te"
      }
    },
    {
      "cell_type": "code",
      "source": [
        "import pandas as pd\n",
        "import numpy as np\n",
        "import matplotlib.pyplot as plt\n",
        "import seaborn as sns  # Better than just matplotlib for statistical plots\n",
        "\n",
        "# For pandas-profiling (now called ydata-profiling)\n",
        "from ydata_profiling import ProfileReport  # Not imported with 'as'\n",
        "\n",
        "# For scikit-learn, you import specific modules/functions, not the whole package\n",
        "from sklearn.preprocessing import StandardScaler, LabelEncoder\n",
        "from sklearn.model_selection import train_test_split\n",
        "from sklearn.impute import SimpleImputer\n",
        "# Add other sklearn imports as needed\n",
        "\n",
        "# Additional useful libraries:\n",
        "import scipy.stats as stats  # Statistical tests\n",
        "import warnings"
      ],
      "metadata": {
        "id": "2yjhgvxIwErc"
      },
      "execution_count": 43,
      "outputs": []
    },
    {
      "cell_type": "code",
      "source": [
        "## Importing the dataset\n",
        "kepler_df = pd.read_csv(\"/content/kepler_data.csv\", skiprows=53)"
      ],
      "metadata": {
        "id": "lZAS4BFIxwRn"
      },
      "execution_count": 44,
      "outputs": []
    },
    {
      "cell_type": "code",
      "source": [
        "kepler_df.info()"
      ],
      "metadata": {
        "id": "4bY-JOW-zb9s",
        "colab": {
          "base_uri": "https://localhost:8080/"
        },
        "outputId": "ee60ad8d-03c6-42a8-eb54-0ba1e1823148"
      },
      "execution_count": 45,
      "outputs": [
        {
          "output_type": "stream",
          "name": "stdout",
          "text": [
            "<class 'pandas.core.frame.DataFrame'>\n",
            "RangeIndex: 9564 entries, 0 to 9563\n",
            "Data columns (total 49 columns):\n",
            " #   Column             Non-Null Count  Dtype  \n",
            "---  ------             --------------  -----  \n",
            " 0   kepid              9564 non-null   int64  \n",
            " 1   kepoi_name         9564 non-null   object \n",
            " 2   kepler_name        2747 non-null   object \n",
            " 3   koi_disposition    9564 non-null   object \n",
            " 4   koi_pdisposition   9564 non-null   object \n",
            " 5   koi_score          8054 non-null   float64\n",
            " 6   koi_fpflag_nt      9564 non-null   int64  \n",
            " 7   koi_fpflag_ss      9564 non-null   int64  \n",
            " 8   koi_fpflag_co      9564 non-null   int64  \n",
            " 9   koi_fpflag_ec      9564 non-null   int64  \n",
            " 10  koi_period         9564 non-null   float64\n",
            " 11  koi_period_err1    9110 non-null   float64\n",
            " 12  koi_period_err2    9110 non-null   float64\n",
            " 13  koi_time0bk        9564 non-null   float64\n",
            " 14  koi_time0bk_err1   9110 non-null   float64\n",
            " 15  koi_time0bk_err2   9110 non-null   float64\n",
            " 16  koi_impact         9201 non-null   float64\n",
            " 17  koi_impact_err1    9110 non-null   float64\n",
            " 18  koi_impact_err2    9110 non-null   float64\n",
            " 19  koi_duration       9564 non-null   float64\n",
            " 20  koi_duration_err1  9110 non-null   float64\n",
            " 21  koi_duration_err2  9110 non-null   float64\n",
            " 22  koi_depth          9201 non-null   float64\n",
            " 23  koi_depth_err1     9110 non-null   float64\n",
            " 24  koi_depth_err2     9110 non-null   float64\n",
            " 25  koi_prad           9201 non-null   float64\n",
            " 26  koi_prad_err1      9201 non-null   float64\n",
            " 27  koi_prad_err2      9201 non-null   float64\n",
            " 28  koi_teq            9201 non-null   float64\n",
            " 29  koi_teq_err1       0 non-null      float64\n",
            " 30  koi_teq_err2       0 non-null      float64\n",
            " 31  koi_insol          9243 non-null   float64\n",
            " 32  koi_insol_err1     9243 non-null   float64\n",
            " 33  koi_insol_err2     9243 non-null   float64\n",
            " 34  koi_model_snr      9201 non-null   float64\n",
            " 35  koi_tce_plnt_num   9218 non-null   float64\n",
            " 36  koi_tce_delivname  9218 non-null   object \n",
            " 37  koi_steff          9201 non-null   float64\n",
            " 38  koi_steff_err1     9096 non-null   float64\n",
            " 39  koi_steff_err2     9081 non-null   float64\n",
            " 40  koi_slogg          9201 non-null   float64\n",
            " 41  koi_slogg_err1     9096 non-null   float64\n",
            " 42  koi_slogg_err2     9096 non-null   float64\n",
            " 43  koi_srad           9201 non-null   float64\n",
            " 44  koi_srad_err1      9096 non-null   float64\n",
            " 45  koi_srad_err2      9096 non-null   float64\n",
            " 46  ra                 9564 non-null   float64\n",
            " 47  dec                9564 non-null   float64\n",
            " 48  koi_kepmag         9563 non-null   float64\n",
            "dtypes: float64(39), int64(5), object(5)\n",
            "memory usage: 3.6+ MB\n"
          ]
        }
      ]
    },
    {
      "cell_type": "code",
      "source": [
        "kepler_df.head()"
      ],
      "metadata": {
        "id": "Il3bI6_IzoHF",
        "colab": {
          "base_uri": "https://localhost:8080/",
          "height": 255
        },
        "outputId": "2b203d9a-055e-403b-f36a-7ad60a541907"
      },
      "execution_count": 46,
      "outputs": [
        {
          "output_type": "execute_result",
          "data": {
            "text/plain": [
              "      kepid kepoi_name   kepler_name koi_disposition koi_pdisposition  \\\n",
              "0  10797460  K00752.01  Kepler-227 b       CONFIRMED        CANDIDATE   \n",
              "1  10797460  K00752.02  Kepler-227 c       CONFIRMED        CANDIDATE   \n",
              "2  10811496  K00753.01           NaN       CANDIDATE        CANDIDATE   \n",
              "3  10848459  K00754.01           NaN  FALSE POSITIVE   FALSE POSITIVE   \n",
              "4  10854555  K00755.01  Kepler-664 b       CONFIRMED        CANDIDATE   \n",
              "\n",
              "   koi_score  koi_fpflag_nt  koi_fpflag_ss  koi_fpflag_co  koi_fpflag_ec  ...  \\\n",
              "0      1.000              0              0              0              0  ...   \n",
              "1      0.969              0              0              0              0  ...   \n",
              "2      0.000              0              0              0              0  ...   \n",
              "3      0.000              0              1              0              0  ...   \n",
              "4      1.000              0              0              0              0  ...   \n",
              "\n",
              "   koi_steff_err2  koi_slogg  koi_slogg_err1  koi_slogg_err2  koi_srad  \\\n",
              "0           -81.0      4.467           0.064          -0.096     0.927   \n",
              "1           -81.0      4.467           0.064          -0.096     0.927   \n",
              "2          -176.0      4.544           0.044          -0.176     0.868   \n",
              "3          -174.0      4.564           0.053          -0.168     0.791   \n",
              "4          -211.0      4.438           0.070          -0.210     1.046   \n",
              "\n",
              "   koi_srad_err1  koi_srad_err2         ra        dec  koi_kepmag  \n",
              "0          0.105         -0.061  291.93423  48.141651      15.347  \n",
              "1          0.105         -0.061  291.93423  48.141651      15.347  \n",
              "2          0.233         -0.078  297.00482  48.134129      15.436  \n",
              "3          0.201         -0.067  285.53461  48.285210      15.597  \n",
              "4          0.334         -0.133  288.75488  48.226200      15.509  \n",
              "\n",
              "[5 rows x 49 columns]"
            ],
            "text/html": [
              "\n",
              "  <div id=\"df-5de4b1cf-e441-4bfa-9b40-7b17fd016a39\" class=\"colab-df-container\">\n",
              "    <div>\n",
              "<style scoped>\n",
              "    .dataframe tbody tr th:only-of-type {\n",
              "        vertical-align: middle;\n",
              "    }\n",
              "\n",
              "    .dataframe tbody tr th {\n",
              "        vertical-align: top;\n",
              "    }\n",
              "\n",
              "    .dataframe thead th {\n",
              "        text-align: right;\n",
              "    }\n",
              "</style>\n",
              "<table border=\"1\" class=\"dataframe\">\n",
              "  <thead>\n",
              "    <tr style=\"text-align: right;\">\n",
              "      <th></th>\n",
              "      <th>kepid</th>\n",
              "      <th>kepoi_name</th>\n",
              "      <th>kepler_name</th>\n",
              "      <th>koi_disposition</th>\n",
              "      <th>koi_pdisposition</th>\n",
              "      <th>koi_score</th>\n",
              "      <th>koi_fpflag_nt</th>\n",
              "      <th>koi_fpflag_ss</th>\n",
              "      <th>koi_fpflag_co</th>\n",
              "      <th>koi_fpflag_ec</th>\n",
              "      <th>...</th>\n",
              "      <th>koi_steff_err2</th>\n",
              "      <th>koi_slogg</th>\n",
              "      <th>koi_slogg_err1</th>\n",
              "      <th>koi_slogg_err2</th>\n",
              "      <th>koi_srad</th>\n",
              "      <th>koi_srad_err1</th>\n",
              "      <th>koi_srad_err2</th>\n",
              "      <th>ra</th>\n",
              "      <th>dec</th>\n",
              "      <th>koi_kepmag</th>\n",
              "    </tr>\n",
              "  </thead>\n",
              "  <tbody>\n",
              "    <tr>\n",
              "      <th>0</th>\n",
              "      <td>10797460</td>\n",
              "      <td>K00752.01</td>\n",
              "      <td>Kepler-227 b</td>\n",
              "      <td>CONFIRMED</td>\n",
              "      <td>CANDIDATE</td>\n",
              "      <td>1.000</td>\n",
              "      <td>0</td>\n",
              "      <td>0</td>\n",
              "      <td>0</td>\n",
              "      <td>0</td>\n",
              "      <td>...</td>\n",
              "      <td>-81.0</td>\n",
              "      <td>4.467</td>\n",
              "      <td>0.064</td>\n",
              "      <td>-0.096</td>\n",
              "      <td>0.927</td>\n",
              "      <td>0.105</td>\n",
              "      <td>-0.061</td>\n",
              "      <td>291.93423</td>\n",
              "      <td>48.141651</td>\n",
              "      <td>15.347</td>\n",
              "    </tr>\n",
              "    <tr>\n",
              "      <th>1</th>\n",
              "      <td>10797460</td>\n",
              "      <td>K00752.02</td>\n",
              "      <td>Kepler-227 c</td>\n",
              "      <td>CONFIRMED</td>\n",
              "      <td>CANDIDATE</td>\n",
              "      <td>0.969</td>\n",
              "      <td>0</td>\n",
              "      <td>0</td>\n",
              "      <td>0</td>\n",
              "      <td>0</td>\n",
              "      <td>...</td>\n",
              "      <td>-81.0</td>\n",
              "      <td>4.467</td>\n",
              "      <td>0.064</td>\n",
              "      <td>-0.096</td>\n",
              "      <td>0.927</td>\n",
              "      <td>0.105</td>\n",
              "      <td>-0.061</td>\n",
              "      <td>291.93423</td>\n",
              "      <td>48.141651</td>\n",
              "      <td>15.347</td>\n",
              "    </tr>\n",
              "    <tr>\n",
              "      <th>2</th>\n",
              "      <td>10811496</td>\n",
              "      <td>K00753.01</td>\n",
              "      <td>NaN</td>\n",
              "      <td>CANDIDATE</td>\n",
              "      <td>CANDIDATE</td>\n",
              "      <td>0.000</td>\n",
              "      <td>0</td>\n",
              "      <td>0</td>\n",
              "      <td>0</td>\n",
              "      <td>0</td>\n",
              "      <td>...</td>\n",
              "      <td>-176.0</td>\n",
              "      <td>4.544</td>\n",
              "      <td>0.044</td>\n",
              "      <td>-0.176</td>\n",
              "      <td>0.868</td>\n",
              "      <td>0.233</td>\n",
              "      <td>-0.078</td>\n",
              "      <td>297.00482</td>\n",
              "      <td>48.134129</td>\n",
              "      <td>15.436</td>\n",
              "    </tr>\n",
              "    <tr>\n",
              "      <th>3</th>\n",
              "      <td>10848459</td>\n",
              "      <td>K00754.01</td>\n",
              "      <td>NaN</td>\n",
              "      <td>FALSE POSITIVE</td>\n",
              "      <td>FALSE POSITIVE</td>\n",
              "      <td>0.000</td>\n",
              "      <td>0</td>\n",
              "      <td>1</td>\n",
              "      <td>0</td>\n",
              "      <td>0</td>\n",
              "      <td>...</td>\n",
              "      <td>-174.0</td>\n",
              "      <td>4.564</td>\n",
              "      <td>0.053</td>\n",
              "      <td>-0.168</td>\n",
              "      <td>0.791</td>\n",
              "      <td>0.201</td>\n",
              "      <td>-0.067</td>\n",
              "      <td>285.53461</td>\n",
              "      <td>48.285210</td>\n",
              "      <td>15.597</td>\n",
              "    </tr>\n",
              "    <tr>\n",
              "      <th>4</th>\n",
              "      <td>10854555</td>\n",
              "      <td>K00755.01</td>\n",
              "      <td>Kepler-664 b</td>\n",
              "      <td>CONFIRMED</td>\n",
              "      <td>CANDIDATE</td>\n",
              "      <td>1.000</td>\n",
              "      <td>0</td>\n",
              "      <td>0</td>\n",
              "      <td>0</td>\n",
              "      <td>0</td>\n",
              "      <td>...</td>\n",
              "      <td>-211.0</td>\n",
              "      <td>4.438</td>\n",
              "      <td>0.070</td>\n",
              "      <td>-0.210</td>\n",
              "      <td>1.046</td>\n",
              "      <td>0.334</td>\n",
              "      <td>-0.133</td>\n",
              "      <td>288.75488</td>\n",
              "      <td>48.226200</td>\n",
              "      <td>15.509</td>\n",
              "    </tr>\n",
              "  </tbody>\n",
              "</table>\n",
              "<p>5 rows × 49 columns</p>\n",
              "</div>\n",
              "    <div class=\"colab-df-buttons\">\n",
              "\n",
              "  <div class=\"colab-df-container\">\n",
              "    <button class=\"colab-df-convert\" onclick=\"convertToInteractive('df-5de4b1cf-e441-4bfa-9b40-7b17fd016a39')\"\n",
              "            title=\"Convert this dataframe to an interactive table.\"\n",
              "            style=\"display:none;\">\n",
              "\n",
              "  <svg xmlns=\"http://www.w3.org/2000/svg\" height=\"24px\" viewBox=\"0 -960 960 960\">\n",
              "    <path d=\"M120-120v-720h720v720H120Zm60-500h600v-160H180v160Zm220 220h160v-160H400v160Zm0 220h160v-160H400v160ZM180-400h160v-160H180v160Zm440 0h160v-160H620v160ZM180-180h160v-160H180v160Zm440 0h160v-160H620v160Z\"/>\n",
              "  </svg>\n",
              "    </button>\n",
              "\n",
              "  <style>\n",
              "    .colab-df-container {\n",
              "      display:flex;\n",
              "      gap: 12px;\n",
              "    }\n",
              "\n",
              "    .colab-df-convert {\n",
              "      background-color: #E8F0FE;\n",
              "      border: none;\n",
              "      border-radius: 50%;\n",
              "      cursor: pointer;\n",
              "      display: none;\n",
              "      fill: #1967D2;\n",
              "      height: 32px;\n",
              "      padding: 0 0 0 0;\n",
              "      width: 32px;\n",
              "    }\n",
              "\n",
              "    .colab-df-convert:hover {\n",
              "      background-color: #E2EBFA;\n",
              "      box-shadow: 0px 1px 2px rgba(60, 64, 67, 0.3), 0px 1px 3px 1px rgba(60, 64, 67, 0.15);\n",
              "      fill: #174EA6;\n",
              "    }\n",
              "\n",
              "    .colab-df-buttons div {\n",
              "      margin-bottom: 4px;\n",
              "    }\n",
              "\n",
              "    [theme=dark] .colab-df-convert {\n",
              "      background-color: #3B4455;\n",
              "      fill: #D2E3FC;\n",
              "    }\n",
              "\n",
              "    [theme=dark] .colab-df-convert:hover {\n",
              "      background-color: #434B5C;\n",
              "      box-shadow: 0px 1px 3px 1px rgba(0, 0, 0, 0.15);\n",
              "      filter: drop-shadow(0px 1px 2px rgba(0, 0, 0, 0.3));\n",
              "      fill: #FFFFFF;\n",
              "    }\n",
              "  </style>\n",
              "\n",
              "    <script>\n",
              "      const buttonEl =\n",
              "        document.querySelector('#df-5de4b1cf-e441-4bfa-9b40-7b17fd016a39 button.colab-df-convert');\n",
              "      buttonEl.style.display =\n",
              "        google.colab.kernel.accessAllowed ? 'block' : 'none';\n",
              "\n",
              "      async function convertToInteractive(key) {\n",
              "        const element = document.querySelector('#df-5de4b1cf-e441-4bfa-9b40-7b17fd016a39');\n",
              "        const dataTable =\n",
              "          await google.colab.kernel.invokeFunction('convertToInteractive',\n",
              "                                                    [key], {});\n",
              "        if (!dataTable) return;\n",
              "\n",
              "        const docLinkHtml = 'Like what you see? Visit the ' +\n",
              "          '<a target=\"_blank\" href=https://colab.research.google.com/notebooks/data_table.ipynb>data table notebook</a>'\n",
              "          + ' to learn more about interactive tables.';\n",
              "        element.innerHTML = '';\n",
              "        dataTable['output_type'] = 'display_data';\n",
              "        await google.colab.output.renderOutput(dataTable, element);\n",
              "        const docLink = document.createElement('div');\n",
              "        docLink.innerHTML = docLinkHtml;\n",
              "        element.appendChild(docLink);\n",
              "      }\n",
              "    </script>\n",
              "  </div>\n",
              "\n",
              "\n",
              "    <div id=\"df-56433edb-e7b2-4e22-9e06-f908479306ab\">\n",
              "      <button class=\"colab-df-quickchart\" onclick=\"quickchart('df-56433edb-e7b2-4e22-9e06-f908479306ab')\"\n",
              "                title=\"Suggest charts\"\n",
              "                style=\"display:none;\">\n",
              "\n",
              "<svg xmlns=\"http://www.w3.org/2000/svg\" height=\"24px\"viewBox=\"0 0 24 24\"\n",
              "     width=\"24px\">\n",
              "    <g>\n",
              "        <path d=\"M19 3H5c-1.1 0-2 .9-2 2v14c0 1.1.9 2 2 2h14c1.1 0 2-.9 2-2V5c0-1.1-.9-2-2-2zM9 17H7v-7h2v7zm4 0h-2V7h2v10zm4 0h-2v-4h2v4z\"/>\n",
              "    </g>\n",
              "</svg>\n",
              "      </button>\n",
              "\n",
              "<style>\n",
              "  .colab-df-quickchart {\n",
              "      --bg-color: #E8F0FE;\n",
              "      --fill-color: #1967D2;\n",
              "      --hover-bg-color: #E2EBFA;\n",
              "      --hover-fill-color: #174EA6;\n",
              "      --disabled-fill-color: #AAA;\n",
              "      --disabled-bg-color: #DDD;\n",
              "  }\n",
              "\n",
              "  [theme=dark] .colab-df-quickchart {\n",
              "      --bg-color: #3B4455;\n",
              "      --fill-color: #D2E3FC;\n",
              "      --hover-bg-color: #434B5C;\n",
              "      --hover-fill-color: #FFFFFF;\n",
              "      --disabled-bg-color: #3B4455;\n",
              "      --disabled-fill-color: #666;\n",
              "  }\n",
              "\n",
              "  .colab-df-quickchart {\n",
              "    background-color: var(--bg-color);\n",
              "    border: none;\n",
              "    border-radius: 50%;\n",
              "    cursor: pointer;\n",
              "    display: none;\n",
              "    fill: var(--fill-color);\n",
              "    height: 32px;\n",
              "    padding: 0;\n",
              "    width: 32px;\n",
              "  }\n",
              "\n",
              "  .colab-df-quickchart:hover {\n",
              "    background-color: var(--hover-bg-color);\n",
              "    box-shadow: 0 1px 2px rgba(60, 64, 67, 0.3), 0 1px 3px 1px rgba(60, 64, 67, 0.15);\n",
              "    fill: var(--button-hover-fill-color);\n",
              "  }\n",
              "\n",
              "  .colab-df-quickchart-complete:disabled,\n",
              "  .colab-df-quickchart-complete:disabled:hover {\n",
              "    background-color: var(--disabled-bg-color);\n",
              "    fill: var(--disabled-fill-color);\n",
              "    box-shadow: none;\n",
              "  }\n",
              "\n",
              "  .colab-df-spinner {\n",
              "    border: 2px solid var(--fill-color);\n",
              "    border-color: transparent;\n",
              "    border-bottom-color: var(--fill-color);\n",
              "    animation:\n",
              "      spin 1s steps(1) infinite;\n",
              "  }\n",
              "\n",
              "  @keyframes spin {\n",
              "    0% {\n",
              "      border-color: transparent;\n",
              "      border-bottom-color: var(--fill-color);\n",
              "      border-left-color: var(--fill-color);\n",
              "    }\n",
              "    20% {\n",
              "      border-color: transparent;\n",
              "      border-left-color: var(--fill-color);\n",
              "      border-top-color: var(--fill-color);\n",
              "    }\n",
              "    30% {\n",
              "      border-color: transparent;\n",
              "      border-left-color: var(--fill-color);\n",
              "      border-top-color: var(--fill-color);\n",
              "      border-right-color: var(--fill-color);\n",
              "    }\n",
              "    40% {\n",
              "      border-color: transparent;\n",
              "      border-right-color: var(--fill-color);\n",
              "      border-top-color: var(--fill-color);\n",
              "    }\n",
              "    60% {\n",
              "      border-color: transparent;\n",
              "      border-right-color: var(--fill-color);\n",
              "    }\n",
              "    80% {\n",
              "      border-color: transparent;\n",
              "      border-right-color: var(--fill-color);\n",
              "      border-bottom-color: var(--fill-color);\n",
              "    }\n",
              "    90% {\n",
              "      border-color: transparent;\n",
              "      border-bottom-color: var(--fill-color);\n",
              "    }\n",
              "  }\n",
              "</style>\n",
              "\n",
              "      <script>\n",
              "        async function quickchart(key) {\n",
              "          const quickchartButtonEl =\n",
              "            document.querySelector('#' + key + ' button');\n",
              "          quickchartButtonEl.disabled = true;  // To prevent multiple clicks.\n",
              "          quickchartButtonEl.classList.add('colab-df-spinner');\n",
              "          try {\n",
              "            const charts = await google.colab.kernel.invokeFunction(\n",
              "                'suggestCharts', [key], {});\n",
              "          } catch (error) {\n",
              "            console.error('Error during call to suggestCharts:', error);\n",
              "          }\n",
              "          quickchartButtonEl.classList.remove('colab-df-spinner');\n",
              "          quickchartButtonEl.classList.add('colab-df-quickchart-complete');\n",
              "        }\n",
              "        (() => {\n",
              "          let quickchartButtonEl =\n",
              "            document.querySelector('#df-56433edb-e7b2-4e22-9e06-f908479306ab button');\n",
              "          quickchartButtonEl.style.display =\n",
              "            google.colab.kernel.accessAllowed ? 'block' : 'none';\n",
              "        })();\n",
              "      </script>\n",
              "    </div>\n",
              "\n",
              "    </div>\n",
              "  </div>\n"
            ],
            "application/vnd.google.colaboratory.intrinsic+json": {
              "type": "dataframe",
              "variable_name": "kepler_df"
            }
          },
          "metadata": {},
          "execution_count": 46
        }
      ]
    },
    {
      "cell_type": "markdown",
      "source": [
        "### Identification Columns\n",
        "\n",
        "1. kepid - Identification of star around which KOI is revolving\n",
        "\n",
        "2. kepoi_name - Idenitification given for a Kepler Point Of Interest\n",
        "\n",
        "KOI -  A KOI is a target identified by the Kepler Project that displays at least one transit-like sequence within Kepler time-series photometry that appears to be of astrophysical origin and initially consistent with a planetary transit hypothesis."
      ],
      "metadata": {
        "id": "Kxpg7t4x33kp"
      }
    },
    {
      "cell_type": "code",
      "source": [
        "kepler_df['kepid'].value_counts()[kepler_df['kepid'].value_counts() > 2]"
      ],
      "metadata": {
        "id": "i6NNp8bZ3NiR",
        "colab": {
          "base_uri": "https://localhost:8080/",
          "height": 489
        },
        "outputId": "e171957a-ef43-4893-f1e3-2f4256985e56"
      },
      "execution_count": 47,
      "outputs": [
        {
          "output_type": "execute_result",
          "data": {
            "text/plain": [
              "kepid\n",
              "11442793    7\n",
              "11968463    7\n",
              "11709124    6\n",
              "10187017    6\n",
              "6541920     6\n",
              "           ..\n",
              "9334289     3\n",
              "7841925     3\n",
              "10002866    3\n",
              "6975129     3\n",
              "4754831     3\n",
              "Name: count, Length: 277, dtype: int64"
            ],
            "text/html": [
              "<div>\n",
              "<style scoped>\n",
              "    .dataframe tbody tr th:only-of-type {\n",
              "        vertical-align: middle;\n",
              "    }\n",
              "\n",
              "    .dataframe tbody tr th {\n",
              "        vertical-align: top;\n",
              "    }\n",
              "\n",
              "    .dataframe thead th {\n",
              "        text-align: right;\n",
              "    }\n",
              "</style>\n",
              "<table border=\"1\" class=\"dataframe\">\n",
              "  <thead>\n",
              "    <tr style=\"text-align: right;\">\n",
              "      <th></th>\n",
              "      <th>count</th>\n",
              "    </tr>\n",
              "    <tr>\n",
              "      <th>kepid</th>\n",
              "      <th></th>\n",
              "    </tr>\n",
              "  </thead>\n",
              "  <tbody>\n",
              "    <tr>\n",
              "      <th>11442793</th>\n",
              "      <td>7</td>\n",
              "    </tr>\n",
              "    <tr>\n",
              "      <th>11968463</th>\n",
              "      <td>7</td>\n",
              "    </tr>\n",
              "    <tr>\n",
              "      <th>11709124</th>\n",
              "      <td>6</td>\n",
              "    </tr>\n",
              "    <tr>\n",
              "      <th>10187017</th>\n",
              "      <td>6</td>\n",
              "    </tr>\n",
              "    <tr>\n",
              "      <th>6541920</th>\n",
              "      <td>6</td>\n",
              "    </tr>\n",
              "    <tr>\n",
              "      <th>...</th>\n",
              "      <td>...</td>\n",
              "    </tr>\n",
              "    <tr>\n",
              "      <th>9334289</th>\n",
              "      <td>3</td>\n",
              "    </tr>\n",
              "    <tr>\n",
              "      <th>7841925</th>\n",
              "      <td>3</td>\n",
              "    </tr>\n",
              "    <tr>\n",
              "      <th>10002866</th>\n",
              "      <td>3</td>\n",
              "    </tr>\n",
              "    <tr>\n",
              "      <th>6975129</th>\n",
              "      <td>3</td>\n",
              "    </tr>\n",
              "    <tr>\n",
              "      <th>4754831</th>\n",
              "      <td>3</td>\n",
              "    </tr>\n",
              "  </tbody>\n",
              "</table>\n",
              "<p>277 rows × 1 columns</p>\n",
              "</div><br><label><b>dtype:</b> int64</label>"
            ]
          },
          "metadata": {},
          "execution_count": 47
        }
      ]
    },
    {
      "cell_type": "markdown",
      "source": [
        "There could be a possibility of identrtifying clusters within stars.\n",
        "\n",
        "E.g. - Solar System around sun"
      ],
      "metadata": {
        "id": "TVdjzpDJ5K3B"
      }
    },
    {
      "cell_type": "markdown",
      "source": [
        "**There is a possibility of creating a feature \"is_multi_planet_system\" and \"num_candidates_in_system\" here**"
      ],
      "metadata": {
        "id": "6Vt3mhLu64LO"
      }
    },
    {
      "cell_type": "markdown",
      "source": [
        "### Exoplanet Archive Information\n",
        "\n",
        "**kepler_name** is an archive parameter **koi_disposition** can be a label for multi_label classification\n",
        "\n"
      ],
      "metadata": {
        "id": "ATiTed8A76Vg"
      }
    },
    {
      "cell_type": "code",
      "source": [
        "kepler_df['koi_disposition'].value_counts()"
      ],
      "metadata": {
        "id": "0emR27377n1j",
        "colab": {
          "base_uri": "https://localhost:8080/",
          "height": 209
        },
        "outputId": "1e10743f-8280-4e61-c218-1bb80f515baf"
      },
      "execution_count": 48,
      "outputs": [
        {
          "output_type": "execute_result",
          "data": {
            "text/plain": [
              "koi_disposition\n",
              "FALSE POSITIVE    4839\n",
              "CONFIRMED         2746\n",
              "CANDIDATE         1979\n",
              "Name: count, dtype: int64"
            ],
            "text/html": [
              "<div>\n",
              "<style scoped>\n",
              "    .dataframe tbody tr th:only-of-type {\n",
              "        vertical-align: middle;\n",
              "    }\n",
              "\n",
              "    .dataframe tbody tr th {\n",
              "        vertical-align: top;\n",
              "    }\n",
              "\n",
              "    .dataframe thead th {\n",
              "        text-align: right;\n",
              "    }\n",
              "</style>\n",
              "<table border=\"1\" class=\"dataframe\">\n",
              "  <thead>\n",
              "    <tr style=\"text-align: right;\">\n",
              "      <th></th>\n",
              "      <th>count</th>\n",
              "    </tr>\n",
              "    <tr>\n",
              "      <th>koi_disposition</th>\n",
              "      <th></th>\n",
              "    </tr>\n",
              "  </thead>\n",
              "  <tbody>\n",
              "    <tr>\n",
              "      <th>FALSE POSITIVE</th>\n",
              "      <td>4839</td>\n",
              "    </tr>\n",
              "    <tr>\n",
              "      <th>CONFIRMED</th>\n",
              "      <td>2746</td>\n",
              "    </tr>\n",
              "    <tr>\n",
              "      <th>CANDIDATE</th>\n",
              "      <td>1979</td>\n",
              "    </tr>\n",
              "  </tbody>\n",
              "</table>\n",
              "</div><br><label><b>dtype:</b> int64</label>"
            ]
          },
          "metadata": {},
          "execution_count": 48
        }
      ]
    },
    {
      "cell_type": "markdown",
      "source": [
        "> **⚠️ Class Imbalance:** FALSE POSITIVE (50.6%) > CONFIRMED (28.7%) > CANDIDATE (20.7%)  \n",
        "> Use `class_weight='balanced'` and evaluate with F1-score, not accuracy."
      ],
      "metadata": {
        "id": "CIWkAb0UCYmm"
      }
    },
    {
      "cell_type": "markdown",
      "source": [
        "### Project Disposition Columns\n",
        "\n",
        "> **⚠️ Data Leakage Risk - DO NOT USE as Features**\n",
        ">\n",
        "> **Columns:** `koi_pdisposition`, `koi_score`, `koi_fpflag_nt`, `koi_fpflag_ss`, `koi_fpflag_co`, `koi_fpflag_ec`\n",
        ">\n",
        "> **Why exclude:** These are the **results of the vetting process**, not independent measurements. They are derived from the same analysis pipeline that produces `koi_disposition` (our target variable). Using them as features would cause severe **data leakage** - we'd be using the answer to predict the answer.\n",
        ">\n",
        "> **Analogy:** It's like predicting exam results using the teacher's grading notes. The flags tell us *why* something was classified as FALSE POSITIVE, but they're part of the classification process itself, not raw observational data.\n",
        ">\n",
        "> **Reference:** [Kepler KOI Column Definitions](https://exoplanetarchive.ipac.caltech.edu/docs/API_kepcandidate_columns.html)"
      ],
      "metadata": {
        "id": "YoR_4K7nD2nw"
      }
    },
    {
      "cell_type": "code",
      "source": [
        "kepler_df['koi_pdisposition'].value_counts()"
      ],
      "metadata": {
        "id": "pPax0PyVFiFs",
        "colab": {
          "base_uri": "https://localhost:8080/",
          "height": 178
        },
        "outputId": "7e35e06e-0266-4a36-f915-47f66d35a941"
      },
      "execution_count": 49,
      "outputs": [
        {
          "output_type": "execute_result",
          "data": {
            "text/plain": [
              "koi_pdisposition\n",
              "FALSE POSITIVE    4847\n",
              "CANDIDATE         4717\n",
              "Name: count, dtype: int64"
            ],
            "text/html": [
              "<div>\n",
              "<style scoped>\n",
              "    .dataframe tbody tr th:only-of-type {\n",
              "        vertical-align: middle;\n",
              "    }\n",
              "\n",
              "    .dataframe tbody tr th {\n",
              "        vertical-align: top;\n",
              "    }\n",
              "\n",
              "    .dataframe thead th {\n",
              "        text-align: right;\n",
              "    }\n",
              "</style>\n",
              "<table border=\"1\" class=\"dataframe\">\n",
              "  <thead>\n",
              "    <tr style=\"text-align: right;\">\n",
              "      <th></th>\n",
              "      <th>count</th>\n",
              "    </tr>\n",
              "    <tr>\n",
              "      <th>koi_pdisposition</th>\n",
              "      <th></th>\n",
              "    </tr>\n",
              "  </thead>\n",
              "  <tbody>\n",
              "    <tr>\n",
              "      <th>FALSE POSITIVE</th>\n",
              "      <td>4847</td>\n",
              "    </tr>\n",
              "    <tr>\n",
              "      <th>CANDIDATE</th>\n",
              "      <td>4717</td>\n",
              "    </tr>\n",
              "  </tbody>\n",
              "</table>\n",
              "</div><br><label><b>dtype:</b> int64</label>"
            ]
          },
          "metadata": {},
          "execution_count": 49
        }
      ]
    },
    {
      "cell_type": "code",
      "source": [
        "kepler_df['koi_score'].describe()"
      ],
      "metadata": {
        "id": "epUPz3X-Fs2d",
        "colab": {
          "base_uri": "https://localhost:8080/",
          "height": 335
        },
        "outputId": "1f9eed81-7487-496d-d3a8-c124d8a3d4a4"
      },
      "execution_count": 50,
      "outputs": [
        {
          "output_type": "execute_result",
          "data": {
            "text/plain": [
              "count    8054.000000\n",
              "mean        0.480829\n",
              "std         0.476928\n",
              "min         0.000000\n",
              "25%         0.000000\n",
              "50%         0.334000\n",
              "75%         0.998000\n",
              "max         1.000000\n",
              "Name: koi_score, dtype: float64"
            ],
            "text/html": [
              "<div>\n",
              "<style scoped>\n",
              "    .dataframe tbody tr th:only-of-type {\n",
              "        vertical-align: middle;\n",
              "    }\n",
              "\n",
              "    .dataframe tbody tr th {\n",
              "        vertical-align: top;\n",
              "    }\n",
              "\n",
              "    .dataframe thead th {\n",
              "        text-align: right;\n",
              "    }\n",
              "</style>\n",
              "<table border=\"1\" class=\"dataframe\">\n",
              "  <thead>\n",
              "    <tr style=\"text-align: right;\">\n",
              "      <th></th>\n",
              "      <th>koi_score</th>\n",
              "    </tr>\n",
              "  </thead>\n",
              "  <tbody>\n",
              "    <tr>\n",
              "      <th>count</th>\n",
              "      <td>8054.000000</td>\n",
              "    </tr>\n",
              "    <tr>\n",
              "      <th>mean</th>\n",
              "      <td>0.480829</td>\n",
              "    </tr>\n",
              "    <tr>\n",
              "      <th>std</th>\n",
              "      <td>0.476928</td>\n",
              "    </tr>\n",
              "    <tr>\n",
              "      <th>min</th>\n",
              "      <td>0.000000</td>\n",
              "    </tr>\n",
              "    <tr>\n",
              "      <th>25%</th>\n",
              "      <td>0.000000</td>\n",
              "    </tr>\n",
              "    <tr>\n",
              "      <th>50%</th>\n",
              "      <td>0.334000</td>\n",
              "    </tr>\n",
              "    <tr>\n",
              "      <th>75%</th>\n",
              "      <td>0.998000</td>\n",
              "    </tr>\n",
              "    <tr>\n",
              "      <th>max</th>\n",
              "      <td>1.000000</td>\n",
              "    </tr>\n",
              "  </tbody>\n",
              "</table>\n",
              "</div><br><label><b>dtype:</b> float64</label>"
            ]
          },
          "metadata": {},
          "execution_count": 50
        }
      ]
    },
    {
      "cell_type": "code",
      "source": [
        "# Examine the relationship between koi_pdisposition and the flag columns\n",
        "print(\"Target variable (koi_pdisposition) - value counts:\")\n",
        "print(kepler_df['koi_pdisposition'].value_counts())\n",
        "print(\"\\n\" + \"=\"*60 + \"\\n\")\n",
        "\n",
        "# Check koi_score separately (continuous variable)\n",
        "print(\"koi_score - descriptive statistics:\")\n",
        "print(kepler_df['koi_score'].describe())\n",
        "print(\"\\nkoi_score by koi_pdisposition:\")\n",
        "print(kepler_df.groupby('koi_pdisposition')['koi_score'].describe())\n",
        "print(\"\\n\" + \"=\"*60 + \"\\n\")\n",
        "\n",
        "# Check each FLAG column (categorical)\n",
        "flag_columns = ['koi_fpflag_nt', 'koi_fpflag_ss', 'koi_fpflag_co', 'koi_fpflag_ec']\n",
        "\n",
        "for flag_col in flag_columns:\n",
        "    print(f\"\\n{flag_col} - unique values and counts:\")\n",
        "    print(kepler_df[flag_col].value_counts(dropna=False))\n",
        "    print(\"\\nCross-tabulation with koi_pdisposition:\")\n",
        "    crosstab = pd.crosstab(\n",
        "        kepler_df['koi_pdisposition'],\n",
        "        kepler_df[flag_col],\n",
        "        margins=True,\n",
        "        dropna=False\n",
        "    )\n",
        "    print(crosstab)\n",
        "    print(\"\\n\" + \"-\"*60)"
      ],
      "metadata": {
        "id": "EbESooMTHTX2",
        "colab": {
          "base_uri": "https://localhost:8080/"
        },
        "outputId": "cdc5a666-e3e9-4a07-e8bc-b2fae262b770"
      },
      "execution_count": 51,
      "outputs": [
        {
          "output_type": "stream",
          "name": "stdout",
          "text": [
            "Target variable (koi_pdisposition) - value counts:\n",
            "koi_pdisposition\n",
            "FALSE POSITIVE    4847\n",
            "CANDIDATE         4717\n",
            "Name: count, dtype: int64\n",
            "\n",
            "============================================================\n",
            "\n",
            "koi_score - descriptive statistics:\n",
            "count    8054.000000\n",
            "mean        0.480829\n",
            "std         0.476928\n",
            "min         0.000000\n",
            "25%         0.000000\n",
            "50%         0.334000\n",
            "75%         0.998000\n",
            "max         1.000000\n",
            "Name: koi_score, dtype: float64\n",
            "\n",
            "koi_score by koi_pdisposition:\n",
            "                   count      mean       std  min      25%    50%  75%  max\n",
            "koi_pdisposition                                                           \n",
            "CANDIDATE         4102.0  0.906390  0.228884  0.0  0.96025  0.998  1.0  1.0\n",
            "FALSE POSITIVE    3952.0  0.039116  0.161416  0.0  0.00000  0.000  0.0  1.0\n",
            "\n",
            "============================================================\n",
            "\n",
            "\n",
            "koi_fpflag_nt - unique values and counts:\n",
            "koi_fpflag_nt\n",
            "0      8033\n",
            "1      1530\n",
            "465       1\n",
            "Name: count, dtype: int64\n",
            "\n",
            "Cross-tabulation with koi_pdisposition:\n",
            "koi_fpflag_nt        0     1  465   All\n",
            "koi_pdisposition                       \n",
            "CANDIDATE         4715     1    1  4717\n",
            "FALSE POSITIVE    3318  1529    0  4847\n",
            "All               8033  1530    1  9564\n",
            "\n",
            "------------------------------------------------------------\n",
            "\n",
            "koi_fpflag_ss - unique values and counts:\n",
            "koi_fpflag_ss\n",
            "0    7338\n",
            "1    2226\n",
            "Name: count, dtype: int64\n",
            "\n",
            "Cross-tabulation with koi_pdisposition:\n",
            "koi_fpflag_ss        0     1   All\n",
            "koi_pdisposition                  \n",
            "CANDIDATE         4707    10  4717\n",
            "FALSE POSITIVE    2631  2216  4847\n",
            "All               7338  2226  9564\n",
            "\n",
            "------------------------------------------------------------\n",
            "\n",
            "koi_fpflag_co - unique values and counts:\n",
            "koi_fpflag_co\n",
            "0    7675\n",
            "1    1889\n",
            "Name: count, dtype: int64\n",
            "\n",
            "Cross-tabulation with koi_pdisposition:\n",
            "koi_fpflag_co        0     1   All\n",
            "koi_pdisposition                  \n",
            "CANDIDATE         4717     0  4717\n",
            "FALSE POSITIVE    2958  1889  4847\n",
            "All               7675  1889  9564\n",
            "\n",
            "------------------------------------------------------------\n",
            "\n",
            "koi_fpflag_ec - unique values and counts:\n",
            "koi_fpflag_ec\n",
            "0    8416\n",
            "1    1148\n",
            "Name: count, dtype: int64\n",
            "\n",
            "Cross-tabulation with koi_pdisposition:\n",
            "koi_fpflag_ec        0     1   All\n",
            "koi_pdisposition                  \n",
            "CANDIDATE         4717     0  4717\n",
            "FALSE POSITIVE    3699  1148  4847\n",
            "All               8416  1148  9564\n",
            "\n",
            "------------------------------------------------------------\n"
          ]
        }
      ]
    },
    {
      "cell_type": "markdown",
      "source": [
        "#### Why These Columns Cannot Be Used as Features\n",
        "\n",
        "**`koi_score`**: This is literally a \"planet probability score\" that scientists calculated *after* they decided if something was a planet candidate or not. It's like using your final grade to predict if you passed the class - the score IS the answer, not a clue to find the answer.\n",
        "\n",
        "**`koi_fpflag_nt` (Not Transit-like)**: This flag means \"we marked this as FALSE POSITIVE because the light pattern doesn't look like a planet passing in front of a star.\" But wait - that's exactly what we're trying to predict! It's like using a note that says \"wrong answer\" to predict if an answer is wrong.\n",
        "\n",
        "**`koi_fpflag_ss` (Stellar Eclipse)**: This flag means \"we decided this is FALSE POSITIVE because it's actually two stars blocking each other, not a planet.\" Again, this is a conclusion from the vetting process, not raw telescope data. It's the reason WHY scientists rejected it, written down after they already made their decision.\n",
        "\n",
        "**`koi_fpflag_co` (Centroid Offset)**: This flag means \"we marked this FALSE POSITIVE because the light is coming from the wrong location - it's a nearby star, not this one.\" Every single time this flag is 1, it's a FALSE POSITIVE (100% correlation!). This is clearly part of the final decision, not an independent measurement.\n",
        "\n",
        "**`koi_fpflag_ec` (Ephemeris Match)**: This flag means \"we rejected this because the timing matches a known spacecraft or instrumental glitch.\" Like the others, this is a reason scientists wrote down AFTER deciding it was false, not telescope data we can use to make the decision."
      ],
      "metadata": {
        "id": "dc5HMB9ILeru"
      }
    },
    {
      "cell_type": "markdown",
      "source": [
        "### Transit Properties\n",
        "\n",
        "Transit properties are the **core observational features** derived from analyzing the Kepler light curves. These parameters characterize the geometry, timing, and physical characteristics of the planetary transit events.\n",
        "\n",
        "Transit parameters are typically best-fit parameters produced by a Mandel-Agol model fit to a multi-quarter Kepler light curve, assuming a linear orbital ephemeris. Some parameters are fit directly, others are derived from the best-fit parameters.\n",
        "\n",
        "#### Categories of Transit Properties\n",
        "\n",
        "**1. Orbital & Timing Parameters**\n",
        "- `koi_period` - Orbital Period (days): Interval between consecutive transits\n",
        "- `koi_time0bk` - Transit Epoch (BJD - 2,454,833.0): Timestamp of first detected transit center\n",
        "\n",
        "**2. Transit Geometry & Observable Features**\n",
        "- `koi_impact` - Impact Parameter: Sky-projected distance between planet and star centers at conjunction (normalized by stellar radius)\n",
        "- `koi_duration` - Transit Duration (hours): Time from first to last contact\n",
        "- `koi_depth` - Transit Depth (ppm): Fraction of stellar flux lost during transit\n",
        "\n",
        "**3. Derived Planetary Parameters**\n",
        "- `koi_prad` - Planetary Radius (Earth radii): Planet size relative to Earth\n",
        "- `koi_teq` - Equilibrium Temperature (Kelvin): Estimated planet temperature\n",
        "- `koi_insol` - Insolation Flux (Earth flux): Stellar energy received by planet\n",
        "\n",
        "#### ⚠️ Important Considerations\n",
        "\n",
        "**Circularity Risk:** Transit parameters depend on best-fit models, and physical planet parameters are derived by scaling to the star's size and temperature.  If the transit fit quality itself influences disposition decisions, using these parameters could introduce circular reasoning.\n",
        "\n",
        "**Strategy:**\n",
        "- Prioritize more directly observable parameters (`koi_period`, `koi_duration`, `koi_depth`)\n",
        "- Use derived parameters (`koi_prad`, `koi_teq`, `koi_insol`) cautiously\n",
        "- Monitor feature importance - if derived features dominate, investigate potential circularity\n",
        "\n",
        "**Reference:** [Kepler Transit Properties Documentation](https://exoplanetarchive.ipac.caltech.edu/docs/API_kepcandidate_columns.html#transit)"
      ],
      "metadata": {
        "id": "n-7xEZrnW1Fu"
      }
    },
    {
      "cell_type": "markdown",
      "source": [
        "#### Derived Features"
      ],
      "metadata": {
        "id": "iuNBWr-IifC2"
      }
    },
    {
      "cell_type": "code",
      "source": [
        "sns.set_style(\"whitegrid\")\n",
        "\n",
        "# Create box plots for the three derived parameters\n",
        "fig, axes = plt.subplots(1, 3, figsize=(15, 5))\n",
        "\n",
        "features = ['koi_prad', 'koi_teq', 'koi_insol']\n",
        "titles = ['Planetary Radius (Earth radii)',\n",
        "          'Equilibrium Temperature (K)',\n",
        "          'Insolation Flux (Earth flux)']\n",
        "\n",
        "for ax, feature, title in zip(axes, features, titles):\n",
        "    sns.boxplot(data=kepler_df, x='koi_pdisposition', y=feature, ax=ax)\n",
        "    ax.set_xlabel('Disposition', fontsize=11)\n",
        "    ax.set_ylabel(title, fontsize=11)\n",
        "    ax.set_title(f'{title} by Disposition', fontsize=12, fontweight='bold')\n",
        "\n",
        "plt.tight_layout()\n",
        "plt.show()"
      ],
      "metadata": {
        "colab": {
          "base_uri": "https://localhost:8080/",
          "height": 369
        },
        "id": "-f8kK0G6fAw4",
        "outputId": "5aafa153-a40a-41b0-c49f-21916b6be979"
      },
      "execution_count": 52,
      "outputs": [
        {
          "output_type": "display_data",
          "data": {
            "text/plain": [
              "<Figure size 1500x500 with 3 Axes>"
            ],
            "image/png": "[encoded data removed]"
          },
          "metadata": {}
        }
      ]
    },
    {
      "cell_type": "code",
      "source": [
        "from scipy import stats\n",
        "import numpy as np\n",
        "\n",
        "# Separate the data by disposition\n",
        "candidates = kepler_df[kepler_df['koi_pdisposition'] == 'CANDIDATE']\n",
        "false_positives = kepler_df[kepler_df['koi_pdisposition'] == 'FALSE POSITIVE']\n",
        "\n",
        "features = ['koi_prad', 'koi_teq', 'koi_insol']\n",
        "titles = ['Planetary Radius', 'Equilibrium Temperature', 'Insolation Flux']\n",
        "\n",
        "print(\"=\" * 80)\n",
        "print(\"LEAKAGE ANALYSIS: Derived Planetary Parameters\")\n",
        "print(\"=\" * 80)\n",
        "\n",
        "for feature, title in zip(features, titles):\n",
        "    # Remove NaN values\n",
        "    cand_values = candidates[feature].dropna()\n",
        "    fp_values = false_positives[feature].dropna()\n",
        "\n",
        "    # Mann-Whitney U test (non-parametric, handles outliers well)\n",
        "    statistic, p_value = stats.mannwhitneyu(cand_values, fp_values, alternative='two-sided')\n",
        "\n",
        "    # Cohen's d (effect size)\n",
        "    mean_diff = cand_values.mean() - fp_values.mean()\n",
        "    pooled_std = np.sqrt(((len(cand_values)-1)*cand_values.std()**2 +\n",
        "                           (len(fp_values)-1)*fp_values.std()**2) /\n",
        "                          (len(cand_values) + len(fp_values) - 2))\n",
        "    cohens_d = mean_diff / pooled_std\n",
        "\n",
        "    print(f\"\\n{title} ({feature}):\")\n",
        "    print(f\"  CANDIDATE:      mean={cand_values.mean():.2f}, median={cand_values.median():.2f}\")\n",
        "    print(f\"  FALSE POSITIVE: mean={fp_values.mean():.2f}, median={fp_values.median():.2f}\")\n",
        "    print(f\"  Cohen's d:      {cohens_d:.3f}  \", end=\"\")\n",
        "\n",
        "    # Interpret Cohen's d\n",
        "    if abs(cohens_d) < 0.2:\n",
        "        print(\"(negligible)\")\n",
        "    elif abs(cohens_d) < 0.5:\n",
        "        print(\"(small)\")\n",
        "    elif abs(cohens_d) < 0.8:\n",
        "        print(\"(MEDIUM - concerning 🚩)\")\n",
        "    else:\n",
        "        print(\"(LARGE - likely leakage 🚩🚩)\")\n",
        "\n",
        "    print(f\"  Mann-Whitney p: {p_value:.2e}  \", end=\"\")\n",
        "    if p_value < 0.001:\n",
        "        print(\"(highly significant ***)\")\n",
        "    elif p_value < 0.05:\n",
        "        print(\"(significant *)\")\n",
        "    else:\n",
        "        print(\"(not significant)\")\n",
        "\n",
        "print(\"\\n\" + \"=\" * 80)\n",
        "print(\"INTERPRETATION:\")\n",
        "print(\"  |Cohen's d| > 0.5 = Concerning separation between groups\")\n",
        "print(\"  p < 0.05 = Statistically significant difference\")\n",
        "print(\"=\" * 80)"
      ],
      "metadata": {
        "colab": {
          "base_uri": "https://localhost:8080/"
        },
        "id": "OQCOuYTQeGPj",
        "outputId": "4dbfb19e-a3b7-48b1-8280-984e9f78bb20"
      },
      "execution_count": 53,
      "outputs": [
        {
          "output_type": "stream",
          "name": "stdout",
          "text": [
            "================================================================================\n",
            "LEAKAGE ANALYSIS: Derived Planetary Parameters\n",
            "================================================================================\n",
            "\n",
            "Planetary Radius (koi_prad):\n",
            "  CANDIDATE:      mean=41.46, median=2.01\n",
            "  FALSE POSITIVE: mean=164.63, median=8.99\n",
            "  Cohen's d:      -0.040  (negligible)\n",
            "  Mann-Whitney p: 5.10e-196  (highly significant ***)\n",
            "\n",
            "Equilibrium Temperature (koi_teq):\n",
            "  CANDIDATE:      mean=824.70, median=752.00\n",
            "  FALSE POSITIVE: mean=1347.38, median=1153.00\n",
            "  Cohen's d:      -0.641  (MEDIUM - concerning 🚩)\n",
            "  Mann-Whitney p: 7.42e-162  (highly significant ***)\n",
            "\n",
            "Insolation Flux (koi_insol):\n",
            "  CANDIDATE:      mean=716.26, median=75.58\n",
            "  FALSE POSITIVE: mean=14755.47, median=425.19\n",
            "  Cohen's d:      -0.088  (negligible)\n",
            "  Mann-Whitney p: 9.50e-166  (highly significant ***)\n",
            "\n",
            "================================================================================\n",
            "INTERPRETATION:\n",
            "  |Cohen's d| > 0.5 = Concerning separation between groups\n",
            "  p < 0.05 = Statistically significant difference\n",
            "================================================================================\n"
          ]
        }
      ]
    },
    {
      "cell_type": "markdown",
      "source": [
        "Contrary Finding: Derived Parameters Are Mostly Fine\n",
        "\n",
        "**Initial Hypothesis:** We suspected that `koi_prad`, `koi_teq`, and `koi_insol` might be leakage features since they're derived FROM the transit signal using assumptions about planetary characteristics.\n",
        "\n",
        "**Actual Results:**\n",
        "\n",
        "| Feature | Cohen's d | Effect Size | Verdict |\n",
        "|---------|-----------|-------------|---------|\n",
        "| `koi_prad` (Planetary Radius) | -0.040 | Negligible | ✅ SAFE to use |\n",
        "| `koi_teq` (Equilibrium Temperature) | -0.641 | Medium | 🚩 LEAKAGE CONCERN |\n",
        "| `koi_insol` (Insolation Flux) | -0.088 | Negligible | ✅ SAFE to use |\n",
        "\n",
        "**Conclusion:**\n",
        "\n",
        "Contrary to our initial concern, 2 out of 3 derived parameters are actually fine for modeling. Only `koi_teq` shows problematic separation between CANDIDATE and FALSE POSITIVE groups.\n",
        "\n",
        "The derived radius and insolation flux don't encode dispositive information strongly enough to be considered leakage, despite being calculated from the same transit data. Only equilibrium temperature shows a medium effect size (Cohen's d = -0.641) that could allow a model to \"cheat\" by learning the pattern \"hotter objects = false positives.\"\n",
        "\n",
        "**Recommendation:** Drop `koi_teq`, keep the other two derived features."
      ],
      "metadata": {
        "id": "U9iGVFvHgz6F"
      }
    },
    {
      "cell_type": "markdown",
      "source": [
        "#### Measured Transit Features"
      ],
      "metadata": {
        "id": "fcoF6ZCTinFG"
      }
    },
    {
      "cell_type": "code",
      "source": [
        "from scipy.stats import pointbiserialr\n",
        "# Features to evaluate\n",
        "features = ['koi_period', 'koi_time0bk', 'koi_impact', 'koi_duration', 'koi_depth']\n",
        "\n",
        "# Encode target as binary for correlation analysis\n",
        "kepler_df['target_binary'] = (kepler_df['koi_pdisposition'] == 'CANDIDATE').astype(int)\n",
        "\n",
        "print(\"=\" * 80)\n",
        "print(\"FEATURE EVALUATION: Observable Transit Features\")\n",
        "print(\"=\" * 80)\n",
        "\n",
        "results = []\n",
        "\n",
        "for feature in features:\n",
        "    # Missing data\n",
        "    missing_pct = kepler_df[feature].isna().sum() / len(kepler_df) * 100\n",
        "\n",
        "    # Point-biserial correlation (numerical feature vs binary target)\n",
        "    valid_data = kepler_df[[feature, 'target_binary']].dropna()\n",
        "    if len(valid_data) > 0:\n",
        "        corr, p_value = pointbiserialr(valid_data['target_binary'], valid_data[feature])\n",
        "    else:\n",
        "        corr, p_value = np.nan, np.nan\n",
        "\n",
        "    results.append({\n",
        "        'Feature': feature,\n",
        "        'Missing %': missing_pct,\n",
        "        'Correlation': corr,\n",
        "        'P-value': p_value\n",
        "    })\n",
        "\n",
        "    print(f\"\\n{feature}:\")\n",
        "    print(f\"  Missing data:  {missing_pct:.1f}%\")\n",
        "    print(f\"  Correlation:   {corr:.3f}  \", end=\"\")\n",
        "\n",
        "    # Interpret correlation strength\n",
        "    if abs(corr) < 0.1:\n",
        "        print(\"(very weak)\")\n",
        "    elif abs(corr) < 0.3:\n",
        "        print(\"(weak)\")\n",
        "    elif abs(corr) < 0.5:\n",
        "        print(\"(moderate)\")\n",
        "    else:\n",
        "        print(\"(strong)\")\n",
        "\n",
        "    print(f\"  P-value:       {p_value:.2e}  \", end=\"\")\n",
        "    if p_value < 0.001:\n",
        "        print(\"(highly significant ***)\")\n",
        "    elif p_value < 0.05:\n",
        "        print(\"(significant *)\")\n",
        "    else:\n",
        "        print(\"(not significant)\")\n",
        "\n",
        "# Check multicollinearity\n",
        "print(\"\\n\" + \"=\" * 80)\n",
        "print(\"MULTICOLLINEARITY CHECK:\")\n",
        "print(\"=\" * 80)\n",
        "\n",
        "correlation_matrix = kepler_df[features].corr()\n",
        "print(\"\\nCorrelation Matrix (|r| > 0.7 suggests multicollinearity):\")\n",
        "print(correlation_matrix.round(3))\n",
        "\n",
        "# Find high correlations\n",
        "high_corr_pairs = []\n",
        "for i in range(len(features)):\n",
        "    for j in range(i+1, len(features)):\n",
        "        corr_val = correlation_matrix.iloc[i, j]\n",
        "        if abs(corr_val) > 0.7:\n",
        "            high_corr_pairs.append((features[i], features[j], corr_val))\n",
        "\n",
        "if high_corr_pairs:\n",
        "    print(\"\\n⚠️  High correlations found:\")\n",
        "    for feat1, feat2, corr_val in high_corr_pairs:\n",
        "        print(f\"  {feat1} <-> {feat2}: {corr_val:.3f}\")\n",
        "else:\n",
        "    print(\"\\n✅ No problematic multicollinearity detected\")\n",
        "\n",
        "print(\"\\n\" + \"=\" * 80)\n",
        "\n",
        "# Clean up\n",
        "kepler_df.drop('target_binary', axis=1, inplace=True)"
      ],
      "metadata": {
        "colab": {
          "base_uri": "https://localhost:8080/"
        },
        "id": "84yaLsPSjeTq",
        "outputId": "5d6e974b-4cb3-49f0-ec46-f169c96c455b"
      },
      "execution_count": 54,
      "outputs": [
        {
          "output_type": "stream",
          "name": "stdout",
          "text": [
            "================================================================================\n",
            "FEATURE EVALUATION: Observable Transit Features\n",
            "================================================================================\n",
            "\n",
            "koi_period:\n",
            "  Missing data:  0.0%\n",
            "  Correlation:   0.008  (very weak)\n",
            "  P-value:       4.31e-01  (not significant)\n",
            "\n",
            "koi_time0bk:\n",
            "  Missing data:  0.0%\n",
            "  Correlation:   0.011  (very weak)\n",
            "  P-value:       2.63e-01  (not significant)\n",
            "\n",
            "koi_impact:\n",
            "  Missing data:  3.8%\n",
            "  Correlation:   -0.062  (very weak)\n",
            "  P-value:       2.32e-09  (highly significant ***)\n",
            "\n",
            "koi_duration:\n",
            "  Missing data:  0.0%\n",
            "  Correlation:   -0.144  (weak)\n",
            "  P-value:       9.55e-46  (highly significant ***)\n",
            "\n",
            "koi_depth:\n",
            "  Missing data:  3.8%\n",
            "  Correlation:   -0.276  (weak)\n",
            "  P-value:       2.73e-160  (highly significant ***)\n",
            "\n",
            "================================================================================\n",
            "MULTICOLLINEARITY CHECK:\n",
            "================================================================================\n",
            "\n",
            "Correlation Matrix (|r| > 0.7 suggests multicollinearity):\n",
            "              koi_period  koi_time0bk  koi_impact  koi_duration  koi_depth\n",
            "koi_period         1.000        0.096       0.005         0.037     -0.009\n",
            "koi_time0bk        0.096        1.000       0.049         0.216     -0.051\n",
            "koi_impact         0.005        0.049       1.000         0.037      0.006\n",
            "koi_duration       0.037        0.216       0.037         1.000      0.067\n",
            "koi_depth         -0.009       -0.051       0.006         0.067      1.000\n",
            "\n",
            "✅ No problematic multicollinearity detected\n",
            "\n",
            "================================================================================\n"
          ]
        }
      ]
    },
    {
      "cell_type": "markdown",
      "source": [
        "Observable Transit Features - Evaluation Results\n",
        "\n",
        "We evaluated 5 directly measured transit features for predictive power, data quality, and multicollinearity.\n",
        "\n",
        "| Feature | Missing % | Correlation | Strength | Multicollinearity |\n",
        "|---------|-----------|-------------|----------|-------------------|\n",
        "| `koi_period` | 0.0% | 0.008 | Very weak | ✅ None |\n",
        "| `koi_time0bk` | 0.0% | 0.011 | Very weak | ✅ None |\n",
        "| `koi_impact` | 3.8% | -0.062 | Very weak | ✅ None |\n",
        "| `koi_duration` | 0.0% | -0.144 | Weak | ✅ None |\n",
        "| `koi_depth` | 3.8% | -0.276 | Weak | ✅ None |\n",
        "\n",
        "**Key Findings:**\n",
        "\n",
        "- **Data Quality:** Excellent - maximum 3.8% missing values\n",
        "- **Predictive Power:** `koi_depth` is the strongest predictor (r = -0.276), followed by `koi_duration` (r = -0.144). Negative correlations indicate deeper/longer transits are more associated with FALSE POSITIVES (eclipsing binaries).\n",
        "- **Multicollinearity:** None detected - all inter-feature correlations < 0.7\n",
        "\n",
        "**Decision:** Keep all 5 features. No data quality or redundancy issues, and all contribute predictive signal.\n",
        "\n"
      ],
      "metadata": {
        "id": "__dXqesBjdsW"
      }
    },
    {
      "cell_type": "markdown",
      "source": [
        "#### Final Feature Selection Summary (7 Features Total)\n",
        "\n",
        "From the evaluated feature groups, we retain the following features for modeling:\n",
        "\n",
        "**Observable Transit Features (5 features):**\n",
        "- `koi_period` - Orbital Period\n",
        "- `koi_time0bk` - Transit Epoch  \n",
        "- `koi_impact` - Impact Parameter\n",
        "- `koi_duration` - Transit Duration\n",
        "- `koi_depth` - Transit Depth\n",
        "\n",
        "**Derived Planetary Parameters (2 features):**\n",
        "- `koi_prad` - Planetary Radius ✅\n",
        "- `koi_insol` - Insolation Flux ✅\n",
        "- ~~`koi_teq` - Equilibrium Temperature~~ ❌ **DROPPED** (leakage concern, Cohen's d = -0.641)\n",
        "\n",
        "**Total: 7 features selected for modeling**"
      ],
      "metadata": {
        "id": "nLt9GTznk8lg"
      }
    },
    {
      "cell_type": "markdown",
      "source": [
        "### Stellar Parameters\n",
        "\n",
        "Stellar parameters describe the physical properties of the host star around which the planet candidate orbits. These characteristics are crucial because they affect the detectability and validation of transiting planets.\n",
        "\n",
        "Stellar effective temperature, surface gravity, metallicity, radius, mass, and age should comprise a consistent set, with associated error estimates representing 1-σ uncertainties.\n",
        "\n",
        "**Available Stellar Features:**\n",
        "\n",
        "1. **`koi_steff`** - Stellar Effective Temperature (Kelvin)\n",
        "   - The photospheric temperature of the star\n",
        "   - Indicates star type (hot blue stars vs cool red stars)\n",
        "   - Affects planet equilibrium temperature calculations\n",
        "\n",
        "2. **`koi_slogg`** - Stellar Surface Gravity (log₁₀(cm s⁻²))\n",
        "   - Base-10 logarithm of acceleration due to gravity at star's surface\n",
        "   - Helps distinguish main sequence stars from giants\n",
        "   - Related to stellar mass and radius\n",
        "\n",
        "3. **`koi_srad`** - Stellar Radius (solar radii)\n",
        "   - The photospheric radius of the star (relative to our Sun)\n",
        "   - Directly used to scale planetary radius from transit depth\n",
        "   - Larger stars = larger planets for same transit depth\n",
        "\n",
        "**Missing Values:** All three stellar parameters have 363 missing values (9201/9564 available). These missing values may indicate stars with insufficient characterization data.\n",
        "\n",
        "**Physical Relationships:**\n",
        "- These parameters are interdependent through stellar evolution models\n",
        "- Stellar radius affects derived planetary radius (`koi_prad`)\n",
        "- Stellar temperature affects planetary equilibrium temperature (`koi_teq`)\n",
        "\n",
        "**Analysis Goals:**\n",
        "- Distribution of stellar types in the dataset\n",
        "- Correlation between stellar properties and disposition\n",
        "- Whether certain star types are more likely to host false positives\n",
        "\n",
        "**Reference:** [Kepler Stellar Parameters Documentation](https://exoplanetarchive.ipac.caltech.edu/docs/API_kepcandidate_columns.html#stellar)"
      ],
      "metadata": {
        "id": "AvXt2PVQmhai"
      }
    },
    {
      "cell_type": "code",
      "source": [
        "stellar_features = ['koi_steff', 'koi_slogg', 'koi_srad']\n",
        "\n",
        "fig, axes = plt.subplots(1, 3, figsize=(18, 5))\n",
        "\n",
        "for idx, feature in enumerate(stellar_features):\n",
        "    sns.boxplot(data=kepler_df, x='koi_disposition', y=feature, ax=axes[idx])\n",
        "    axes[idx].set_title(f'{feature} by Disposition', fontsize=12, fontweight='bold')\n",
        "    axes[idx].set_xlabel('Disposition')\n",
        "    axes[idx].set_ylabel(feature)\n",
        "    axes[idx].tick_params(axis='x', rotation=45)\n",
        "\n",
        "plt.tight_layout()\n",
        "plt.show()"
      ],
      "metadata": {
        "colab": {
          "base_uri": "https://localhost:8080/",
          "height": 311
        },
        "id": "QkMRC85ymn6s",
        "outputId": "450134c0-bfcc-4cbc-ccc1-7ee5dc14a64b"
      },
      "execution_count": 55,
      "outputs": [
        {
          "output_type": "display_data",
          "data": {
            "text/plain": [
              "<Figure size 1800x500 with 3 Axes>"
            ],
            "image/png": "[encoded data removed]"
          },
          "metadata": {}
        }
      ]
    },
    {
      "cell_type": "code",
      "source": [
        "# Use koi_pdisposition for binary classification\n",
        "binary_df = kepler_df[kepler_df['koi_pdisposition'].isin(['CANDIDATE', 'FALSE POSITIVE'])].copy()\n",
        "\n",
        "print(f\"Binary dataset size: {len(binary_df)} rows\")\n",
        "print(f\"  CANDIDATE: {len(binary_df[binary_df['koi_pdisposition'] == 'CANDIDATE'])}\")\n",
        "print(f\"  FALSE POSITIVE: {len(binary_df[binary_df['koi_pdisposition'] == 'FALSE POSITIVE'])}\")\n",
        "print()\n",
        "\n",
        "# Box plots\n",
        "fig, axes = plt.subplots(1, 3, figsize=(18, 5))\n",
        "\n",
        "for idx, feature in enumerate(stellar_features):\n",
        "    plot_data = binary_df[[feature, 'koi_pdisposition']].dropna()\n",
        "\n",
        "    sns.boxplot(data=plot_data, x='koi_pdisposition', y=feature, ax=axes[idx])\n",
        "    axes[idx].set_title(f'{feature} - Binary (CANDIDATE vs FALSE POSITIVE)',\n",
        "                       fontsize=12, fontweight='bold')\n",
        "    axes[idx].set_xlabel('koi_pdisposition')\n",
        "    axes[idx].set_ylabel(feature)\n",
        "\n",
        "plt.tight_layout()\n",
        "plt.show()"
      ],
      "metadata": {
        "colab": {
          "base_uri": "https://localhost:8080/",
          "height": 380
        },
        "id": "2F9oQM3urSlJ",
        "outputId": "3b9b8ffa-e1cc-4c2c-ff53-b8a5c4fd739f"
      },
      "execution_count": 56,
      "outputs": [
        {
          "output_type": "stream",
          "name": "stdout",
          "text": [
            "Binary dataset size: 9564 rows\n",
            "  CANDIDATE: 4717\n",
            "  FALSE POSITIVE: 4847\n",
            "\n"
          ]
        },
        {
          "output_type": "display_data",
          "data": {
            "text/plain": [
              "<Figure size 1800x500 with 3 Axes>"
            ],
            "image/png": "[encoded data removed]"
          },
          "metadata": {}
        }
      ]
    },
    {
      "cell_type": "markdown",
      "source": [
        "### Engineering a Feature and Testing It"
      ],
      "metadata": {
        "id": "atGjj0vAFhWr"
      }
    },
    {
      "cell_type": "code",
      "source": [
        "# Cell: Feature Engineering - Multi-Planet System Indicator\n",
        "\n",
        "# Count number of KOIs per star (kepid)\n",
        "koi_counts = kepler_df.groupby('kepid').size().reset_index(name='num_kois_per_star')\n",
        "\n",
        "# Merge back to main dataframe\n",
        "kepler_df = kepler_df.merge(koi_counts, on='kepid', how='left')\n",
        "\n",
        "# Create binary indicator for multi-planet systems (3+ candidates)\n",
        "kepler_df['is_multi_planet_system'] = (kepler_df['num_kois_per_star'] >= 3).astype(int)\n",
        "\n",
        "# Summary statistics\n",
        "print(\"Multi-Planet System Feature Summary:\")\n",
        "print(\"=\"*50)\n",
        "print(f\"\\nTotal unique stars: {kepler_df['kepid'].nunique()}\")\n",
        "print(f\"Stars with 3+ candidates: {(koi_counts['num_kois_per_star'] >= 3).sum()}\")\n",
        "print(f\"\\nDistribution of candidates per star:\")\n",
        "print(kepler_df['num_kois_per_star'].value_counts().sort_index())\n",
        "print(f\"\\nMulti-planet system flag distribution:\")\n",
        "print(kepler_df['is_multi_planet_system'].value_counts())"
      ],
      "metadata": {
        "id": "GEmHplWcD8nq",
        "colab": {
          "base_uri": "https://localhost:8080/"
        },
        "outputId": "c01ebcca-2c2b-4fc4-e649-a305a3c03be1"
      },
      "execution_count": 57,
      "outputs": [
        {
          "output_type": "stream",
          "name": "stdout",
          "text": [
            "Multi-Planet System Feature Summary:\n",
            "==================================================\n",
            "\n",
            "Total unique stars: 8214\n",
            "Stars with 3+ candidates: 277\n",
            "\n",
            "Distribution of candidates per star:\n",
            "num_kois_per_star\n",
            "1    7276\n",
            "2    1322\n",
            "3     537\n",
            "4     272\n",
            "5     125\n",
            "6      18\n",
            "7      14\n",
            "Name: count, dtype: int64\n",
            "\n",
            "Multi-planet system flag distribution:\n",
            "is_multi_planet_system\n",
            "0    8598\n",
            "1     966\n",
            "Name: count, dtype: int64\n"
          ]
        }
      ]
    },
    {
      "cell_type": "code",
      "source": [
        "# Cell: Analyze Multi-Planet Feature by Disposition\n",
        "\n",
        "print(\"\\nMulti-Planet System by Disposition:\")\n",
        "print(\"=\"*50)\n",
        "crosstab = pd.crosstab(\n",
        "    kepler_df['koi_disposition'],\n",
        "    kepler_df['is_multi_planet_system'],\n",
        "    normalize='index'\n",
        ") * 100\n",
        "\n",
        "print(\"\\nPercentage in multi-planet systems by class:\")\n",
        "print(crosstab.round(2))\n",
        "\n",
        "# Visual comparison\n",
        "fig, axes = plt.subplots(1, 2, figsize=(14, 5))\n",
        "\n",
        "# Count plot\n",
        "sns.countplot(data=kepler_df, x='koi_disposition', hue='is_multi_planet_system', ax=axes[0])\n",
        "axes[0].set_title('Multi-Planet System Distribution by Disposition', fontweight='bold')\n",
        "axes[0].set_xlabel('Disposition')\n",
        "axes[0].set_ylabel('Count')\n",
        "axes[0].legend(title='Multi-Planet System', labels=['No', 'Yes'])\n",
        "axes[0].tick_params(axis='x', rotation=45)\n",
        "\n",
        "# Proportion plot\n",
        "disposition_groups = kepler_df.groupby('koi_disposition')['is_multi_planet_system'].mean() * 100\n",
        "disposition_groups.plot(kind='bar', ax=axes[1], color='steelblue')\n",
        "axes[1].set_title('% in Multi-Planet Systems by Disposition', fontweight='bold')\n",
        "axes[1].set_xlabel('Disposition')\n",
        "axes[1].set_ylabel('% in Multi-Planet Systems')\n",
        "axes[1].tick_params(axis='x', rotation=45)\n",
        "\n",
        "plt.tight_layout()\n",
        "plt.show()"
      ],
      "metadata": {
        "id": "cf7vZ20R4zL9",
        "colab": {
          "base_uri": "https://localhost:8080/",
          "height": 569
        },
        "outputId": "35bae577-4785-4196-8cf5-c48d0d1d4d2f"
      },
      "execution_count": 58,
      "outputs": [
        {
          "output_type": "stream",
          "name": "stdout",
          "text": [
            "\n",
            "Multi-Planet System by Disposition:\n",
            "==================================================\n",
            "\n",
            "Percentage in multi-planet systems by class:\n",
            "is_multi_planet_system      0      1\n",
            "koi_disposition                     \n",
            "CANDIDATE               92.42   7.58\n",
            "CONFIRMED               72.18  27.82\n",
            "FALSE POSITIVE          98.93   1.07\n"
          ]
        },
        {
          "output_type": "display_data",
          "data": {
            "text/plain": [
              "<Figure size 1400x500 with 2 Axes>"
            ],
            "image/png": "[encoded data removed]"
          },
          "metadata": {}
        }
      ]
    },
    {
      "cell_type": "code",
      "source": [
        "# Cell: Statistical Test - Decision Power\n",
        "\n",
        "from scipy.stats import chi2_contingency\n",
        "\n",
        "# Chi-square test for independence\n",
        "contingency_table = pd.crosstab(\n",
        "    kepler_df['koi_disposition'],\n",
        "    kepler_df['is_multi_planet_system']\n",
        ")\n",
        "\n",
        "chi2, p_value, dof, expected = chi2_contingency(contingency_table)\n",
        "\n",
        "print(\"\\nChi-Square Test for Independence:\")\n",
        "print(\"=\"*50)\n",
        "print(f\"Chi-square statistic: {chi2:.4f}\")\n",
        "print(f\"p-value: {p_value:.4e}\")\n",
        "print(f\"Degrees of freedom: {dof}\")\n",
        "\n",
        "if p_value < 0.001:\n",
        "    print(\"\\n✓ STRONG PREDICTIVE POWER (p < 0.001)\")\n",
        "    print(\"Multi-planet system status is significantly associated with disposition!\")\n",
        "elif p_value < 0.05:\n",
        "    print(\"\\n✓ Moderate predictive power (p < 0.05)\")\n",
        "else:\n",
        "    print(\"\\n✗ WEAK/NO predictive power (p >= 0.05)\")\n",
        "\n",
        "print(\"\\n\" + \"=\"*50)\n",
        "print(\"DECISION: Keep 'is_multi_planet_system' as feature?\" )\n",
        "print(\"Yes\" if p_value < 0.05 else \"No - drop this feature\")"
      ],
      "metadata": {
        "colab": {
          "base_uri": "https://localhost:8080/"
        },
        "id": "m6FL2ww3uZ7j",
        "outputId": "ec32afb3-75e6-4118-9856-40ec3593b1cf"
      },
      "execution_count": 59,
      "outputs": [
        {
          "output_type": "stream",
          "name": "stdout",
          "text": [
            "\n",
            "Chi-Square Test for Independence:\n",
            "==================================================\n",
            "Chi-square statistic: 1397.7754\n",
            "p-value: 2.9987e-304\n",
            "Degrees of freedom: 2\n",
            "\n",
            "✓ STRONG PREDICTIVE POWER (p < 0.001)\n",
            "Multi-planet system status is significantly associated with disposition!\n",
            "\n",
            "==================================================\n",
            "DECISION: Keep 'is_multi_planet_system' as feature?\n",
            "Yes\n"
          ]
        }
      ]
    },
    {
      "cell_type": "markdown",
      "source": [
        "Feature Engineering: Multi-Planet System Indicator\n",
        "\n",
        "Created `is_multi_planet_system` binary feature based on `kepid` grouping (1 if star has 3+ planet candidates, 0 otherwise).\n",
        "\n",
        "**Key Finding - Strong Discriminative Power:**\n",
        "\n",
        "Percentage of KOIs in multi-planet systems by disposition:\n",
        "- **CONFIRMED: 27.82%** - Real planets often exist in systems\n",
        "- **CANDIDATE: 7.58%** - Intermediate\n",
        "- **FALSE POSITIVE: 1.07%** - Almost always isolated detections\n",
        "\n",
        "**Physical Interpretation:** Real planets form in multi-planet systems (like our solar system), while false positives (instrumental artifacts, background eclipsing binaries) are typically isolated random events. A KOI in a multi-planet system is ~26x more likely to be confirmed than a false positive.\n",
        "\n",
        "**Decision: ✓ KEEP as feature** - This captures genuine astrophysical signal about planetary system architecture.\n",
        "\n",
        "**Updated feature count: 11 features** (10 original + multi-planet indicator)"
      ],
      "metadata": {
        "id": "-w2bHb3QvGpF"
      }
    },
    {
      "cell_type": "markdown",
      "source": [
        "## Final Feature Set for Modeling*\n",
        "\n",
        "After comprehensive EDA and feature analysis, the following 11 features have been selected for exoplanet classification:\n",
        "\n",
        "**Observable Transit Features (5 features):**\n",
        "- `koi_period` - Orbital Period (days)\n",
        "- `koi_time0bk` - Transit Epoch (BJD - 2,454,833.0)\n",
        "- `koi_impact` - Impact Parameter\n",
        "- `koi_duration` - Transit Duration (hours)\n",
        "- `koi_depth` - Transit Depth (ppm)\n",
        "\n",
        "**Derived Planetary Parameters (2 features):**\n",
        "- `koi_prad` - Planetary Radius (Earth radii)\n",
        "- `koi_insol` - Insolation Flux (Earth flux)\n",
        "\n",
        "**Stellar Parameters (3 features):**\n",
        "- `koi_steff` - Stellar Effective Temperature (Kelvin)\n",
        "- `koi_slogg` - Stellar Surface Gravity (log₁₀(cm s⁻²))\n",
        "- `koi_srad` - Stellar Radius (solar radii)\n",
        "\n",
        "**Engineered Features (1 feature):**\n",
        "- `is_multi_planet_system` - Binary indicator for stars with 3+ planet candidates (strong discriminative power: CONFIRMED 27.82% vs FALSE POSITIVE 1.07%)\n",
        "\n",
        "**Target Variable:**\n",
        "- `koi_disposition` - 3-class classification (CONFIRMED, FALSE POSITIVE, CANDIDATE)\n",
        "\n",
        "**Features Excluded:**\n",
        "- All error columns (_err1, _err2) - measurement uncertainty, not physical properties\n",
        "- Disposition-related columns (koi_pdisposition, koi_score, koi_fpflag_*) - data leakage risk\n",
        "- Quality metrics (koi_model_snr, koi_tce_plnt_num, koi_tce_delivname) - circular reasoning\n",
        "- Identifiers (kepid, kepoi_name, kepler_name, ra, dec, koi_kepmag) - not predictive\n",
        "- koi_teq - dropped due to leakage concerns (Cohen's d = -0.641)\n",
        "- Empty columns (koi_teq_err1, koi_teq_err2) - 0 non-null values\n",
        "\n",
        "**Total: 11 features selected from 49 original columns**\n",
        "\n",
        "**Missing Values:** 363 rows have missing values in transit/stellar parameters (9201/9564 complete cases)"
      ],
      "metadata": {
        "id": "ChV9aVrwvPTV"
      }
    },
    {
      "cell_type": "code",
      "source": [
        "# Final feature list for modeling\n",
        "features = [\n",
        "    # Observable Transit Features\n",
        "    'koi_period',\n",
        "    'koi_time0bk',\n",
        "    'koi_impact',\n",
        "    'koi_duration',\n",
        "    'koi_depth',\n",
        "\n",
        "    # Derived Planetary Parameters\n",
        "    'koi_prad',\n",
        "    'koi_insol',\n",
        "\n",
        "    # Stellar Parameters\n",
        "    'koi_steff',\n",
        "    'koi_slogg',\n",
        "    'koi_srad',\n",
        "\n",
        "    # Engineered Features\n",
        "    'is_multi_planet_system'\n",
        "]\n",
        "\n",
        "# Target variable\n",
        "target = 'koi_pdisposition'\n",
        "\n",
        "print(f\"Total features: {len(features)}\")\n",
        "print(f\"Target variable: {target}\")"
      ],
      "metadata": {
        "colab": {
          "base_uri": "https://localhost:8080/"
        },
        "id": "kAEHJ4LSvKxf",
        "outputId": "b499b75d-aba1-4827-f7dc-30fed499f12d"
      },
      "execution_count": 62,
      "outputs": [
        {
          "output_type": "stream",
          "name": "stdout",
          "text": [
            "Total features: 11\n",
            "Target variable: koi_pdisposition\n"
          ]
        }
      ]
    },
    {
      "cell_type": "code",
      "source": [
        "# Create modeling dataframe with selected features and target\n",
        "modeling_df = kepler_df[features + [target]].copy()\n",
        "\n",
        "print(f\"Modeling dataset shape: {modeling_df.shape}\")\n",
        "print(f\"Features: {len(features)}\")\n",
        "print(f\"Samples: {len(modeling_df)}\")\n",
        "print(f\"\\nMissing values per column:\")\n",
        "print(modeling_df.isnull().sum())\n",
        "print(f\"\\nTarget distribution:\")\n",
        "print(modeling_df[target].value_counts())"
      ],
      "metadata": {
        "colab": {
          "base_uri": "https://localhost:8080/"
        },
        "id": "8VMzDk26FSU1",
        "outputId": "81409b49-e38b-4605-ec4c-5b884d1119c1"
      },
      "execution_count": 63,
      "outputs": [
        {
          "output_type": "stream",
          "name": "stdout",
          "text": [
            "Modeling dataset shape: (9564, 12)\n",
            "Features: 11\n",
            "Samples: 9564\n",
            "\n",
            "Missing values per column:\n",
            "koi_period                  0\n",
            "koi_time0bk                 0\n",
            "koi_impact                363\n",
            "koi_duration                0\n",
            "koi_depth                 363\n",
            "koi_prad                  363\n",
            "koi_insol                 321\n",
            "koi_steff                 363\n",
            "koi_slogg                 363\n",
            "koi_srad                  363\n",
            "is_multi_planet_system      0\n",
            "koi_pdisposition            0\n",
            "dtype: int64\n",
            "\n",
            "Target distribution:\n",
            "koi_pdisposition\n",
            "FALSE POSITIVE    4847\n",
            "CANDIDATE         4717\n",
            "Name: count, dtype: int64\n"
          ]
        }
      ]
    },
    {
      "cell_type": "code",
      "source": [
        "# Drop rows with any missing values\n",
        "modeling_df_clean = modeling_df.dropna()\n",
        "\n",
        "print(f\"Original shape: {modeling_df.shape}\")\n",
        "print(f\"After dropping nulls: {modeling_df_clean.shape}\")\n",
        "print(f\"Rows dropped: {len(modeling_df) - len(modeling_df_clean)}\")\n",
        "print(f\"\\nPercentage of data retained: {len(modeling_df_clean)/len(modeling_df)*100:.2f}%\")\n",
        "print(f\"\\nTarget distribution after dropping nulls:\")\n",
        "print(modeling_df_clean[target].value_counts())\n",
        "print(f\"\\nClass percentages:\")\n",
        "print(modeling_df_clean[target].value_counts(normalize=True) * 100)"
      ],
      "metadata": {
        "colab": {
          "base_uri": "https://localhost:8080/"
        },
        "id": "nTMcdIQ2HQO1",
        "outputId": "988241cf-31f7-4574-d448-0dc6e94beece"
      },
      "execution_count": 64,
      "outputs": [
        {
          "output_type": "stream",
          "name": "stdout",
          "text": [
            "Original shape: (9564, 12)\n",
            "After dropping nulls: (9201, 12)\n",
            "Rows dropped: 363\n",
            "\n",
            "Percentage of data retained: 96.20%\n",
            "\n",
            "Target distribution after dropping nulls:\n",
            "koi_pdisposition\n",
            "CANDIDATE         4612\n",
            "FALSE POSITIVE    4589\n",
            "Name: count, dtype: int64\n",
            "\n",
            "Class percentages:\n",
            "koi_pdisposition\n",
            "CANDIDATE         50.124986\n",
            "FALSE POSITIVE    49.875014\n",
            "Name: proportion, dtype: float64\n"
          ]
        }
      ]
    },
    {
      "cell_type": "code",
      "source": [
        "fig, axes = plt.subplots(3, 4, figsize= (8, 6))\n",
        "axes = axes.flatten()\n",
        "\n",
        "for idx, feature in enumerate(features):\n",
        "    modeling_df_clean[feature].hist(bins=50, ax=axes[idx], edgecolor='black')\n",
        "    axes[idx].set_title(feature, fontweight='bold')\n",
        "    axes[idx].set_xlabel('')\n",
        "\n",
        "# Remove empty subplot\n",
        "fig.delaxes(axes[-1])\n",
        "plt.tight_layout()\n",
        "plt.show()\n",
        "\n",
        "# Check feature scales\n",
        "print(\"\\nFeature scales (min, max, mean, std):\")\n",
        "print(\"=\"*60)\n",
        "print(modeling_df_clean[features].describe().loc[['min', 'max', 'mean', 'std']].T)"
      ],
      "metadata": {
        "colab": {
          "base_uri": "https://localhost:8080/",
          "height": 867
        },
        "id": "HnLTBij_IgJf",
        "outputId": "3f0e9075-a390-4e0a-f95a-35240a7bc0a7"
      },
      "execution_count": 67,
      "outputs": [
        {
          "output_type": "display_data",
          "data": {
            "text/plain": [
              "<Figure size 800x600 with 11 Axes>"
            ],
            "image/png": "[encoded data removed]"
          },
          "metadata": {}
        },
        {
          "output_type": "stream",
          "name": "stdout",
          "text": [
            "\n",
            "Feature scales (min, max, mean, std):\n",
            "============================================================\n",
            "                                min           max          mean            std\n",
            "koi_period                 0.241843  1.299958e+05     74.307951    1360.538847\n",
            "koi_time0bk              120.515914  1.472522e+03    165.461519      67.315287\n",
            "koi_impact                 0.000000  1.008060e+02      0.735105       3.348832\n",
            "koi_duration               0.052000  1.385400e+02      5.654692       6.499703\n",
            "koi_depth                  0.000000  1.541400e+06  23791.335898   82242.683149\n",
            "koi_prad                   0.080000  2.003460e+05    102.891778    3077.639126\n",
            "koi_insol                  0.000000  1.094755e+07   7716.611186  159545.537301\n",
            "koi_steff               2661.000000  1.589600e+04   5706.823280     796.857947\n",
            "koi_slogg                  0.047000  5.364000e+00      4.310157       0.432606\n",
            "koi_srad                   0.109000  2.299080e+02      1.728712       6.127185\n",
            "is_multi_planet_system     0.000000  1.000000e+00      0.102815       0.303733\n"
          ]
        }
      ]
    },
    {
      "cell_type": "markdown",
      "source": [
        "Applying Log Transformation"
      ],
      "metadata": {
        "id": "yPBFzTK9LWDp"
      }
    },
    {
      "cell_type": "code",
      "source": [
        "# Features needing log transformation (extreme right skew)\n",
        "log_features = [\n",
        "    'koi_period',      # Extreme skew, ranges 0-100k+\n",
        "    'koi_depth',       # Extreme skew, mostly near 0\n",
        "    'koi_prad',        # Extreme skew, ranges 0-200k+\n",
        "    'koi_insol'        # Extreme skew, ranges 0-10M+\n",
        "]\n",
        "\n",
        "# Features that look okay as-is (more normal-ish)\n",
        "no_transform_needed = [\n",
        "    'koi_time0bk',     # Already fairly concentrated\n",
        "    'koi_impact',      # Bounded 0-100, reasonable distribution\n",
        "    'koi_duration',    # Already concentrated at low values\n",
        "    'koi_steff',       # Nice bell curve, near-normal\n",
        "    'koi_slogg',       # Near-normal distribution\n",
        "    'koi_srad',        # Concentrated with few outliers\n",
        "    'is_multi_planet_system'  # Binary categorical (0/1), don't transform\n",
        "]"
      ],
      "metadata": {
        "id": "CC4H7nNeLZzy"
      },
      "execution_count": 68,
      "outputs": []
    },
    {
      "cell_type": "code",
      "source": [
        "modeling_df_log = modeling_df_clean.copy()\n",
        "\n",
        "for feature in log_features:\n",
        "    modeling_df_log[feature] = np.log1p(modeling_df_log[feature])\n",
        "\n",
        "print(f\"Log-transformed features: {log_features}\")\n",
        "print(f\"Shape: {modeling_df_log.shape}\")"
      ],
      "metadata": {
        "colab": {
          "base_uri": "https://localhost:8080/"
        },
        "id": "Zd_bo6slLaZg",
        "outputId": "7b866df9-6b8f-4552-87a2-9ee0b1fed1ef"
      },
      "execution_count": 69,
      "outputs": [
        {
          "output_type": "stream",
          "name": "stdout",
          "text": [
            "Log-transformed features: ['koi_period', 'koi_depth', 'koi_prad', 'koi_insol']\n",
            "Shape: (9201, 12)\n"
          ]
        }
      ]
    },
    {
      "cell_type": "code",
      "source": [
        "# Cell: Save datasets before modeling\n",
        "\n",
        "# Save the cleaned dataset with original features\n",
        "modeling_df_clean.to_csv('kepler_modeling_clean.csv', index=False)\n",
        "print(\"✓ Saved: kepler_modeling_clean.csv\")\n",
        "print(f\"  Shape: {modeling_df_clean.shape}\")\n",
        "print(f\"  Features: raw/original scale\")\n",
        "\n",
        "# Save the log-transformed dataset\n",
        "modeling_df_log.to_csv('kepler_modeling_log.csv', index=False)\n",
        "print(\"\\n✓ Saved: kepler_modeling_log.csv\")\n",
        "print(f\"  Shape: {modeling_df_log.shape}\")\n",
        "print(f\"  Features: {log_features} are log-transformed\")\n",
        "\n",
        "print(\"\\n\" + \"=\"*60)\n",
        "print(\"DATASETS READY FOR MODELING\")\n",
        "print(\"=\"*60)\n",
        "print(f\"Total samples: {len(modeling_df_clean)}\")\n",
        "print(f\"Total features: {len(features)}\")\n",
        "print(f\"Target: {target} (binary: CANDIDATE vs FALSE POSITIVE)\")\n",
        "print(f\"Class balance: ~50/50\")\n",
        "print(\"\\nUse 'kepler_modeling_clean.csv' for tree-based models\")\n",
        "print(\"Use 'kepler_modeling_log.csv' for linear models (optional comparison)\")"
      ],
      "metadata": {
        "colab": {
          "base_uri": "https://localhost:8080/"
        },
        "id": "gYRtqBCOQHiV",
        "outputId": "81ca1f3b-c267-4a2c-c276-87d627e5bb94"
      },
      "execution_count": 71,
      "outputs": [
        {
          "output_type": "stream",
          "name": "stdout",
          "text": [
            "✓ Saved: kepler_modeling_clean.csv\n",
            "  Shape: (9201, 12)\n",
            "  Features: raw/original scale\n",
            "\n",
            "✓ Saved: kepler_modeling_log.csv\n",
            "  Shape: (9201, 12)\n",
            "  Features: ['koi_period', 'koi_depth', 'koi_prad', 'koi_insol'] are log-transformed\n",
            "\n",
            "============================================================\n",
            "DATASETS READY FOR MODELING\n",
            "============================================================\n",
            "Total samples: 9201\n",
            "Total features: 11\n",
            "Target: koi_pdisposition (binary: CANDIDATE vs FALSE POSITIVE)\n",
            "Class balance: ~50/50\n",
            "\n",
            "Use 'kepler_modeling_clean.csv' for tree-based models\n",
            "Use 'kepler_modeling_log.csv' for linear models (optional comparison)\n"
          ]
        }
      ]
    },
    {
      "cell_type": "markdown",
      "source": [
        "## Modeling with ML\n"
      ],
      "metadata": {
        "id": "lORRsoRWLhmk"
      }
    },
    {
      "cell_type": "code",
      "source": [
        "modeling_df_log.info()"
      ],
      "metadata": {
        "colab": {
          "base_uri": "https://localhost:8080/"
        },
        "id": "niv4taRsLf31",
        "outputId": "7709a214-714e-46d3-85fd-f557f00f89c3"
      },
      "execution_count": 72,
      "outputs": [
        {
          "output_type": "stream",
          "name": "stdout",
          "text": [
            "<class 'pandas.core.frame.DataFrame'>\n",
            "Index: 9201 entries, 0 to 9563\n",
            "Data columns (total 12 columns):\n",
            " #   Column                  Non-Null Count  Dtype  \n",
            "---  ------                  --------------  -----  \n",
            " 0   koi_period              9201 non-null   float64\n",
            " 1   koi_time0bk             9201 non-null   float64\n",
            " 2   koi_impact              9201 non-null   float64\n",
            " 3   koi_duration            9201 non-null   float64\n",
            " 4   koi_depth               9201 non-null   float64\n",
            " 5   koi_prad                9201 non-null   float64\n",
            " 6   koi_insol               9201 non-null   float64\n",
            " 7   koi_steff               9201 non-null   float64\n",
            " 8   koi_slogg               9201 non-null   float64\n",
            " 9   koi_srad                9201 non-null   float64\n",
            " 10  is_multi_planet_system  9201 non-null   int64  \n",
            " 11  koi_pdisposition        9201 non-null   object \n",
            "dtypes: float64(10), int64(1), object(1)\n",
            "memory usage: 934.5+ KB\n"
          ]
        }
      ]
    },
    {
      "cell_type": "code",
      "source": [
        "from sklearn.model_selection import train_test_split\n",
        "from sklearn.preprocessing import StandardScaler\n",
        "import numpy as np\n",
        "\n",
        "# Separate features and target\n",
        "X = modeling_df_log.drop('koi_pdisposition', axis=1)\n",
        "y = modeling_df_log['koi_pdisposition']\n",
        "\n",
        "# Encode target: CANDIDATE=1, FALSE POSITIVE=0\n",
        "y = (y == 'CANDIDATE').astype(int)\n",
        "\n",
        "# Train-test split (80-20)\n",
        "X_train, X_test, y_train, y_test = train_test_split(\n",
        "    X, y, test_size=0.2, random_state=42, stratify=y\n",
        ")\n",
        "\n",
        "# Standard scaling\n",
        "scaler = StandardScaler()\n",
        "X_train_scaled = scaler.fit_transform(X_train)\n",
        "X_test_scaled = scaler.transform(X_test)\n",
        "\n",
        "# Convert back to DataFrames\n",
        "X_train_scaled = pd.DataFrame(X_train_scaled, columns=X.columns)\n",
        "X_test_scaled = pd.DataFrame(X_test_scaled, columns=X.columns)\n",
        "\n",
        "print(\"Dataset prepared successfully!\")\n",
        "print(f\"Total features: {X.shape[1]}\")\n",
        "print(f\"Training set: {X_train_scaled.shape[0]} samples\")\n",
        "print(f\"Test set: {X_test_scaled.shape[0]} samples\")\n",
        "print(f\"Class distribution (train): {y_train.value_counts().to_dict()}\")\n",
        "print(f\"Class distribution (test): {y_test.value_counts().to_dict()}\")"
      ],
      "metadata": {
        "colab": {
          "base_uri": "https://localhost:8080/"
        },
        "id": "b6UloX7TLei7",
        "outputId": "f9e6d0c8-cfc9-4c92-a96f-ebf4fb78ced2"
      },
      "execution_count": 73,
      "outputs": [
        {
          "output_type": "stream",
          "name": "stdout",
          "text": [
            "Dataset prepared successfully!\n",
            "Total features: 11\n",
            "Training set: 7360 samples\n",
            "Test set: 1841 samples\n",
            "Class distribution (train): {1: 3689, 0: 3671}\n",
            "Class distribution (test): {1: 923, 0: 918}\n"
          ]
        }
      ]
    },
    {
      "cell_type": "code",
      "source": [
        "from sklearn.linear_model import LogisticRegression\n",
        "from sklearn.ensemble import RandomForestClassifier\n",
        "from sklearn.svm import SVC\n",
        "from sklearn.metrics import accuracy_score, precision_score, recall_score, f1_score, roc_auc_score\n",
        "\n",
        "# Train multiple models\n",
        "models = {\n",
        "    'Logistic Regression': LogisticRegression(random_state=42, max_iter=1000),\n",
        "    'Random Forest': RandomForestClassifier(random_state=42, n_estimators=100),\n",
        "    'SVM': SVC(random_state=42, probability=True)\n",
        "}\n",
        "\n",
        "results = []\n",
        "\n",
        "for model_name, model in models.items():\n",
        "    # Train\n",
        "    model.fit(X_train_scaled, y_train)\n",
        "\n",
        "    # Predict\n",
        "    y_pred = model.predict(X_test_scaled)\n",
        "    y_pred_proba = model.predict_proba(X_test_scaled)[:, 1]\n",
        "\n",
        "    # Evaluate\n",
        "    accuracy = accuracy_score(y_test, y_pred)\n",
        "    precision = precision_score(y_test, y_pred)\n",
        "    recall = recall_score(y_test, y_pred)\n",
        "    f1 = f1_score(y_test, y_pred)\n",
        "    roc_auc = roc_auc_score(y_test, y_pred_proba)\n",
        "\n",
        "    results.append({\n",
        "        'Model': model_name,\n",
        "        'Accuracy': accuracy,\n",
        "        'Precision': precision,\n",
        "        'Recall': recall,\n",
        "        'F1-Score': f1,\n",
        "        'ROC-AUC': roc_auc\n",
        "    })\n",
        "\n",
        "    print(f\"\\n{model_name}:\")\n",
        "    print(f\"  Accuracy:  {accuracy:.4f}\")\n",
        "    print(f\"  Precision: {precision:.4f}\")\n",
        "    print(f\"  Recall:    {recall:.4f}\")\n",
        "    print(f\"  F1-Score:  {f1:.4f}\")\n",
        "    print(f\"  ROC-AUC:   {roc_auc:.4f}\")\n",
        "\n",
        "# Summary table\n",
        "results_df = pd.DataFrame(results)\n",
        "print(\"\\n\" + \"=\"*70)\n",
        "print(\"MODEL COMPARISON:\")\n",
        "print(\"=\"*70)\n",
        "print(results_df.to_string(index=False))"
      ],
      "metadata": {
        "colab": {
          "base_uri": "https://localhost:8080/"
        },
        "id": "eJqDWBB_S00P",
        "outputId": "9cb9e60c-0200-43cf-8aca-e6d691b57597"
      },
      "execution_count": 74,
      "outputs": [
        {
          "output_type": "stream",
          "name": "stdout",
          "text": [
            "\n",
            "Logistic Regression:\n",
            "  Accuracy:  0.8034\n",
            "  Precision: 0.7705\n",
            "  Recall:    0.8657\n",
            "  F1-Score:  0.8153\n",
            "  ROC-AUC:   0.8730\n",
            "\n",
            "Random Forest:\n",
            "  Accuracy:  0.8501\n",
            "  Precision: 0.8338\n",
            "  Recall:    0.8754\n",
            "  F1-Score:  0.8541\n",
            "  ROC-AUC:   0.9289\n",
            "\n",
            "SVM:\n",
            "  Accuracy:  0.8528\n",
            "  Precision: 0.8313\n",
            "  Recall:    0.8862\n",
            "  F1-Score:  0.8579\n",
            "  ROC-AUC:   0.9191\n",
            "\n",
            "======================================================================\n",
            "MODEL COMPARISON:\n",
            "======================================================================\n",
            "              Model  Accuracy  Precision   Recall  F1-Score  ROC-AUC\n",
            "Logistic Regression  0.803368   0.770492 0.865655  0.815306 0.873049\n",
            "      Random Forest  0.850081   0.833849 0.875406  0.854123 0.928922\n",
            "                SVM  0.852797   0.831301 0.886241  0.857892 0.919065\n"
          ]
        }
      ]
    },
    {
      "cell_type": "code",
      "source": [],
      "metadata": {
        "id": "ddfRKTTyTMPW"
      },
      "execution_count": null,
      "outputs": []
    }
  ]
}